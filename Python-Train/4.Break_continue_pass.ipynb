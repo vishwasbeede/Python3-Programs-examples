{
 "cells": [
  {
   "cell_type": "code",
   "execution_count": null,
   "metadata": {},
   "outputs": [],
   "source": [
    "for i in range(0,12,1):\n",
    "    print(i)\n",
    "    if i ==8:\n",
    "        break"
   ]
  },
  {
   "cell_type": "code",
   "execution_count": 2,
   "metadata": {},
   "outputs": [
    {
     "data": {
      "text/plain": [
       "'\\nWrite a program which repeatedly prompts the user for an integer. If the integer is even,\\n'"
      ]
     },
     "execution_count": 2,
     "metadata": {},
     "output_type": "execute_result"
    }
   ],
   "source": [
    "\"\"\"\n",
    "Write a program which repeatedly prompts the user for an integer. If the integer is even,\n",
    "\"\"\""
   ]
  },
  {
   "cell_type": "markdown",
   "metadata": {},
   "source": [
    "## while True:\n",
    "    read_input = int(input(\"Enter the number\\n\"))\n",
    "    if read_input %2 == 1:\n",
    "        break\n",
    "        "
   ]
  },
  {
   "cell_type": "code",
   "execution_count": 1,
   "metadata": {},
   "outputs": [
    {
     "data": {
      "text/plain": [
       "'\\nImplement a simple calculator with a menu. Display the following options to the user, prompt for a selection,\\nand carry out the requested action (e.g. prompt for two numbers and add them). After each operation, return\\nthe user to the menu. Exit the program when the user selects 0. If the user enters a number which is not in the\\nmenu, ignore the input and redisplay the menu. You can assume that the user will enter a valid integer:\\n-- Calculator Menu --\\n0. Quit\\n1. Add two numbers\\n2. Subtract two numbers\\n3. Multiply two numbers\\n4. Divide two numbers\\n'"
      ]
     },
     "execution_count": 1,
     "metadata": {},
     "output_type": "execute_result"
    }
   ],
   "source": [
    "\"\"\"\n",
    "Implement a simple calculator with a menu. Display the following options to the user, prompt for a selection,\n",
    "and carry out the requested action (e.g. prompt for two numbers and add them). After each operation, return\n",
    "the user to the menu. Exit the program when the user selects 0. If the user enters a number which is not in the\n",
    "menu, ignore the input and redisplay the menu. You can assume that the user will enter a valid integer:\n",
    "-- Calculator Menu --\n",
    "0. Quit\n",
    "1. Add two numbers\n",
    "2. Subtract two numbers\n",
    "3. Multiply two numbers\n",
    "4. Divide two numbers\n",
    "\"\"\""
   ]
  }
 ],
 "metadata": {
  "kernelspec": {
   "display_name": "Python 3",
   "language": "python",
   "name": "python3"
  },
  "language_info": {
   "codemirror_mode": {
    "name": "ipython",
    "version": 3
   },
   "file_extension": ".py",
   "mimetype": "text/x-python",
   "name": "python",
   "nbconvert_exporter": "python",
   "pygments_lexer": "ipython3",
   "version": "3.8.5"
  }
 },
 "nbformat": 4,
 "nbformat_minor": 4
}
