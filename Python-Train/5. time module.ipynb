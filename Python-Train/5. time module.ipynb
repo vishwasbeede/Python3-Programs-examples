{
 "cells": [
  {
   "cell_type": "code",
   "execution_count": null,
   "metadata": {},
   "outputs": [],
   "source": [
    "import time\n",
    "print(time.ctime())\n",
    "print(time.localtime())\n",
    "print(time.strftime(\"%H:%M:%S\"))\n",
    "while True:\n",
    "    print(time.strftime(\"%s\"))\n",
    "    time.sleep(1)\n",
    "    print(time.strftime(\"%S\"))\n",
    "    timest=time.strftime(\"%S\")\n",
    "#instead of timest == 20, replaced in range(0,60,10)\n",
    "    if int(timest) in (range(1,60,10)):\n",
    "        break\n",
    "    \n",
    "print(\"Completed the loop\")\n",
    "# print(time.strptime())\n",
    "print(dir(time))\n",
    "\n",
    "print(type(time.time()))\n",
    "time.time()\n"
   ]
  }
 ],
 "metadata": {
  "kernelspec": {
   "display_name": "Python 3",
   "language": "python",
   "name": "python3"
  },
  "language_info": {
   "codemirror_mode": {
    "name": "ipython",
    "version": 3
   },
   "file_extension": ".py",
   "mimetype": "text/x-python",
   "name": "python",
   "nbconvert_exporter": "python",
   "pygments_lexer": "ipython3",
   "version": "3.8.5"
  }
 },
 "nbformat": 4,
 "nbformat_minor": 4
}
