{
 "cells": [
  {
   "cell_type": "code",
   "execution_count": 12,
   "metadata": {},
   "outputs": [
    {
     "name": "stdout",
     "output_type": "stream",
     "text": [
      "3782906\n"
     ]
    }
   ],
   "source": [
    "import os\n",
    "print(os.getpid())"
   ]
  },
  {
   "cell_type": "code",
   "execution_count": 17,
   "metadata": {},
   "outputs": [
    {
     "name": "stdout",
     "output_type": "stream",
     "text": [
      "posix.uname_result(sysname='Linux', nodename='ctlitrainingrhel7', release='4.18.0-193.19.1.el8_2.x86_64', version='#1 SMP Wed Aug 26 15:29:02 EDT 2020', machine='x86_64')\n"
     ]
    }
   ],
   "source": [
    "import os\n",
    "# print(dir(os))\n",
    "# print(os.getcwd())\n",
    "# /training/python/notebooks/ad04398\n",
    "# os.chdir('/training/python/notebooks/')\n",
    "# print(os.getcwd())\n",
    "# print(help(os.utime))\n",
    "# print(os.path)\n",
    "# print(os.system('date'))\n",
    "# print(os.listdir())\n",
    "# print(os.name)\n",
    "# print(os.getlogin())\n",
    "# print(os.getpid())\n",
    "# print(os.getuid())\n",
    "# print(os.mkdir('test-1'))\n",
    "# print(os.listdir())\n",
    "# print(os.rmdir('test-1'))\n",
    "# print(os.listdir())\n",
    "print(os.uname())\n",
    "\n"
   ]
  },
  {
   "cell_type": "code",
   "execution_count": 14,
   "metadata": {},
   "outputs": [
    {
     "data": {
      "text/plain": [
       "['__all__',\n",
       " '__builtins__',\n",
       " '__cached__',\n",
       " '__doc__',\n",
       " '__file__',\n",
       " '__loader__',\n",
       " '__name__',\n",
       " '__package__',\n",
       " '__spec__',\n",
       " '_glob0',\n",
       " '_glob1',\n",
       " '_glob2',\n",
       " '_iglob',\n",
       " '_ishidden',\n",
       " '_isrecursive',\n",
       " '_iterdir',\n",
       " '_rlistdir',\n",
       " 'escape',\n",
       " 'fnmatch',\n",
       " 'glob',\n",
       " 'glob0',\n",
       " 'glob1',\n",
       " 'has_magic',\n",
       " 'iglob',\n",
       " 'magic_check',\n",
       " 'magic_check_bytes',\n",
       " 'os',\n",
       " 're',\n",
       " 'sys']"
      ]
     },
     "execution_count": 14,
     "metadata": {},
     "output_type": "execute_result"
    }
   ],
   "source": [
    "import glob\n",
    "dir(glob)"
   ]
  },
  {
   "cell_type": "code",
   "execution_count": 29,
   "metadata": {},
   "outputs": [
    {
     "data": {
      "text/plain": [
       "[]"
      ]
     },
     "execution_count": 29,
     "metadata": {},
     "output_type": "execute_result"
    }
   ],
   "source": [
    "import os\n",
    "import glob\n",
    "\n",
    "glob.glob(\"/training/python/notebooks/ad04398/\\[6\\]\")\n",
    "# glob.glob(\"/training/python/notebooks/ad04398/*6*\")\n",
    "# glob.glob(\"/training/python/notebooks/ad04398/*Str*\")\n"
   ]
  }
 ],
 "metadata": {
  "kernelspec": {
   "display_name": "Python 3",
   "language": "python",
   "name": "python3"
  },
  "language_info": {
   "codemirror_mode": {
    "name": "ipython",
    "version": 3
   },
   "file_extension": ".py",
   "mimetype": "text/x-python",
   "name": "python",
   "nbconvert_exporter": "python",
   "pygments_lexer": "ipython3",
   "version": "3.8.5"
  }
 },
 "nbformat": 4,
 "nbformat_minor": 4
}
