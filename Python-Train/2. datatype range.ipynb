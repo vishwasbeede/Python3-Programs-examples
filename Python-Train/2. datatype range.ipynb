{
 "cells": [
  {
   "cell_type": "code",
   "execution_count": null,
   "metadata": {},
   "outputs": [],
   "source": [
    "# Run is funcion which is used to geneate sequence of numbers"
   ]
  },
  {
   "cell_type": "code",
   "execution_count": 7,
   "metadata": {},
   "outputs": [
    {
     "name": "stdout",
     "output_type": "stream",
     "text": [
      "range(0, 12)\n",
      "<class 'range'>\n",
      "['__bool__', '__class__', '__contains__', '__delattr__', '__dir__', '__doc__', '__eq__', '__format__', '__ge__', '__getattribute__', '__getitem__', '__gt__', '__hash__', '__init__', '__init_subclass__', '__iter__', '__le__', '__len__', '__lt__', '__ne__', '__new__', '__reduce__', '__reduce_ex__', '__repr__', '__reversed__', '__setattr__', '__sizeof__', '__str__', '__subclasshook__', 'count', 'index', 'start', 'step', 'stop']\n",
      "0\n",
      "2\n",
      "4\n",
      "6\n",
      "8\n",
      "10\n",
      "12\n",
      "14\n",
      "Total sum of range x3 is 56\n",
      "1\n"
     ]
    }
   ],
   "source": [
    "x=range(0,12,1)\n",
    "print(x)\n",
    "print(type(x))\n",
    "print(dir(x))\n",
    "sum=0\n",
    "x3=range(0,16,2)\n",
    "for i in x3:\n",
    "    print(i)\n",
    "    sum+=i\n",
    "print(\"Total sum of range x3 is\",sum)\n",
    "print(x3.count(10))\n",
    "# Has method count, display number of elements in range"
   ]
  },
  {
   "cell_type": "code",
   "execution_count": 1,
   "metadata": {},
   "outputs": [
    {
     "data": {
      "text/plain": [
       "'\\n1. Create a range a which starts from 0 and goes on for 20 numbers.\\n2. Create a range b which starts from 3 and ends on 12.\\n3. Create a range c which contains every third integer starting from 2 and ending at 50.\\n'"
      ]
     },
     "execution_count": 1,
     "metadata": {},
     "output_type": "execute_result"
    }
   ],
   "source": [
    "\"\"\"\n",
    "1. Create a range a which starts from 0 and goes on for 20 numbers.\n",
    "2. Create a range b which starts from 3 and ends on 12.\n",
    "3. Create a range c which contains every third integer starting from 2 and ending at 50.\n",
    "\"\"\""
   ]
  },
  {
   "cell_type": "code",
   "execution_count": 9,
   "metadata": {},
   "outputs": [
    {
     "name": "stdout",
     "output_type": "stream",
     "text": [
      "[2, 5, 8, 11, 14, 17, 20, 23, 26, 29, 32, 35, 38, 41, 44, 47, 50]\n"
     ]
    }
   ],
   "source": [
    "# c=range(2,51,3)\n",
    "# 2,3,4,5,6,7,8,9\n",
    "# print(list(c))"
   ]
  }
 ],
 "metadata": {
  "kernelspec": {
   "display_name": "Python 3",
   "language": "python",
   "name": "python3"
  },
  "language_info": {
   "codemirror_mode": {
    "name": "ipython",
    "version": 3
   },
   "file_extension": ".py",
   "mimetype": "text/x-python",
   "name": "python",
   "nbconvert_exporter": "python",
   "pygments_lexer": "ipython3",
   "version": "3.8.5"
  }
 },
 "nbformat": 4,
 "nbformat_minor": 4
}
