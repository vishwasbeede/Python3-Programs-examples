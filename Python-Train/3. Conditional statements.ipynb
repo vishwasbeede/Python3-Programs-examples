{
 "cells": [
  {
   "cell_type": "code",
   "execution_count": 122,
   "metadata": {},
   "outputs": [
    {
     "name": "stdout",
     "output_type": "stream",
     "text": [
      "100\n"
     ]
    }
   ],
   "source": [
    "a=200\n",
    "b=100\n",
    "if(a<b):\n",
    "    print(b-a)\n",
    "else:\n",
    "    print(a-b)"
   ]
  },
  {
   "cell_type": "code",
   "execution_count": 124,
   "metadata": {},
   "outputs": [
    {
     "name": "stdout",
     "output_type": "stream",
     "text": [
      "400\n"
     ]
    }
   ],
   "source": [
    "a=500\n",
    "b=100\n",
    "print(abs(b-a))\n"
   ]
  },
  {
   "cell_type": "code",
   "execution_count": 109,
   "metadata": {},
   "outputs": [
    {
     "name": "stdout",
     "output_type": "stream",
     "text": [
      "Linux\n",
      "Run commands related to linux system\n"
     ]
    }
   ],
   "source": [
    "# Decision statements, excecutes the statements block based on conditionals\n",
    "\n",
    "# Check apache webservices is running\n",
    "# Linux_Version= !cat /etc/os-release | awk -F= 'NR==1 {print $2}'\n",
    "# ps -ef | grep '[a]pache'\n",
    "# Check is Linux envronmet\n",
    "# Subprocess is module to execute commands\n",
    "import subprocess\n",
    "\n",
    "# op_system = subprocess.check_output('uname',shell=True).strip()\n",
    "\n",
    "# print(op_system.decode('utf-8'))\n",
    "# op_system = subprocess.check_output('uname',shell=True)\n",
    "op_system = subprocess.check_output(['uname'],shell=True).decode('utf-8').strip()\n",
    "# strip()\n",
    "# print(op_system.decode('utf-8'))\n",
    "print(op_system)\n",
    "if op_system == 'Linux':\n",
    "    print(\"Run commands related to linux system\")\n",
    "elif op_system == 'Windows':\n",
    "    print(\"Run commands related to linux system\")\n",
    "else:\n",
    "    print(\"Error unable to find system details\")\n",
    "\n",
    "\n",
    "# subprocess.Popen(['ps','-ef'], stdout=PIPE, stderr=PIPE)\n",
    "# s1,s2=Popen.communicate()\n",
    "# print(s1)\n",
    "# x=subprocess.run(['date'],shell=True,capture_output=True)\n",
    "# print(x.stdout.decode('utf-8'))\n",
    "\n",
    "\n",
    "\n"
   ]
  },
  {
   "cell_type": "code",
   "execution_count": 118,
   "metadata": {},
   "outputs": [
    {
     "name": "stdout",
     "output_type": "stream",
     "text": [
      "9999\n"
     ]
    }
   ],
   "source": [
    "a=12\n",
    "b=3\n",
    "if a>b:\n",
    "    res=\"9999\"\n",
    "else:\n",
    "    res=\"00000\"\n",
    "print(res)"
   ]
  },
  {
   "cell_type": "code",
   "execution_count": 116,
   "metadata": {},
   "outputs": [
    {
     "name": "stdout",
     "output_type": "stream",
     "text": [
      "9999\n"
     ]
    }
   ],
   "source": [
    "# Ternery operator\n",
    "# res = (a > 10) ? True : False //For js\n",
    "# print(res)\n",
    "a=12\n",
    "b=3\n",
    "res = \"9999\" if a>b else \"00000\"\n",
    "print(res)"
   ]
  },
  {
   "cell_type": "code",
   "execution_count": 127,
   "metadata": {},
   "outputs": [
    {
     "name": "stdout",
     "output_type": "stream",
     "text": [
      "Hello\n"
     ]
    }
   ],
   "source": [
    "# Logical errors\n",
    "# Netsed if else\n",
    "a=120\n",
    "b=112\n",
    "if a<b:\n",
    "    if a<c:\n",
    "        print (\"a < c\")\n",
    "    else:\n",
    "        print(\"a<b\")\n",
    "else:\n",
    "    print(\"Hello\")"
   ]
  },
  {
   "cell_type": "code",
   "execution_count": 134,
   "metadata": {},
   "outputs": [
    {
     "name": "stdout",
     "output_type": "stream",
     "text": [
      "---\n"
     ]
    }
   ],
   "source": [
    "# a=13\n",
    "# if a = 12 :\n",
    "#     print(\"hhh\")\n",
    "if ((1 - 1) <= 0):\n",
    "    print(\"---\")"
   ]
  },
  {
   "cell_type": "code",
   "execution_count": null,
   "metadata": {},
   "outputs": [],
   "source": [
    "\"\"\"\n",
    "1. For what values of input will this program print \"True\"?\n",
    "    if not input > 5:\n",
    "    print(\"True\")\n",
    "    0\n",
    "2. For what values of absentee_rate and overall_mark will this program print \"You have passed\n",
    "the course.\"?\n",
    "    if absentee_rate <= 5 and overall_mark >= 50:\n",
    "    print(\"You have passed the course.\")\n",
    "3. For what values of x will this program print \"True\"?\n",
    "    if x > 1 or x <= 8:\n",
    "    print(\"True\")\n",
    "    \n",
    "4. Eliminate not from each of these boolean expressions:\n",
    "        not total <= 2\n",
    "        not count > 40\n",
    "        not (value > 20.0 and total != 100.0)\n",
    "        not (angle > 180 and width == 5)\n",
    "        not (count == 5 and not (value != 10) or count > 50)\n",
    "        not (value > 200 or value < 0 and not total == 0)\n",
    "\"\"\""
   ]
  },
  {
   "cell_type": "code",
   "execution_count": 141,
   "metadata": {},
   "outputs": [
    {
     "name": "stdout",
     "output_type": "stream",
     "text": [
      "Kid\n"
     ]
    }
   ],
   "source": [
    "age_val=13\n",
    "if  age_val > 0 and age_val < 18:\n",
    "    print(\"Kid\")\n",
    "else:\n",
    "    print(\"Adult\")"
   ]
  },
  {
   "cell_type": "code",
   "execution_count": 168,
   "metadata": {},
   "outputs": [
    {
     "name": "stdout",
     "output_type": "stream",
     "text": [
      "Adult\n"
     ]
    }
   ],
   "source": [
    "age_val=190\n",
    "\n",
    "if   18 > abs(age_val) >= 0 :\n",
    "    print(\"Kid\")\n",
    "else:\n",
    "    print(\"Adult\")"
   ]
  }
 ],
 "metadata": {
  "kernelspec": {
   "display_name": "Python 3",
   "language": "python",
   "name": "python3"
  },
  "language_info": {
   "codemirror_mode": {
    "name": "ipython",
    "version": 3
   },
   "file_extension": ".py",
   "mimetype": "text/x-python",
   "name": "python",
   "nbconvert_exporter": "python",
   "pygments_lexer": "ipython3",
   "version": "3.8.5"
  }
 },
 "nbformat": 4,
 "nbformat_minor": 4
}
