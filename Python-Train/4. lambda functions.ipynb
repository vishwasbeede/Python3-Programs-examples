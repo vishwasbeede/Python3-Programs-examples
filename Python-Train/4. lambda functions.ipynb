{
 "cells": [
  {
   "cell_type": "code",
   "execution_count": 26,
   "metadata": {},
   "outputs": [
    {
     "name": "stdout",
     "output_type": "stream",
     "text": [
      "[1, 8, 27, 64, 216, 343, 512, 729, 1000]\n",
      "[1, 8, 27, 64, 216, 343, 512, 729, 1000]\n",
      "[0.2, 0.4, 0.6, 0.8, 1.2, 1.4, 1.6, 1.8, 2.0]\n"
     ]
    }
   ],
   "source": [
    "# Lambda function is the anonymous function\n",
    "# Function definition without any name\n",
    "#  inline function may be defined by the help of lambda expressions. \n",
    "# A lambda expression consists of the lambda keyword followed by a comma seperated list of arguments and the expression to be evaluated using the list of argument\n",
    "\n",
    "x=lambda x:x**3\n",
    "x(2)\n",
    "x(5)\n",
    "numbers_list=[1,2,3,4,6,7,8,9,10]\n",
    "cube_list = [x(i) for i in numbers_list]\n",
    "print(cube_list)\n",
    "\n",
    "cube_list = [(lambda x1:x1**3)(x1) for x1 in numbers_list]\n",
    "print(cube_list)\n",
    "# for i in cube_list:\n",
    "#     print(i)\n",
    "\n",
    "cube_list_filter = list(filter(lambda x1:x1>3,numbers_list))\n",
    "cube_list_filter = list(filter(lambda x1:x1%2,numbers_list))\n",
    "cube_list_filter = list(map(lambda x1:x1*2/10,numbers_list))\n",
    "# cube_list_filter = list(reduce(lambda x1:x1*2/10,numbers_list))\n",
    "\n",
    "print(cube_list_filter)"
   ]
  },
  {
   "cell_type": "code",
   "execution_count": 32,
   "metadata": {},
   "outputs": [
    {
     "name": "stdout",
     "output_type": "stream",
     "text": [
      "[[3, 4, 4], [4, 9, 16, 64], [3, 6, 9, 12]]\n"
     ]
    }
   ],
   "source": [
    "List = [[4,3,4],[9, 4, 16, 64],[3, 6, 9, 12]]\n",
    "#Sorting sublist\n",
    "sortList = lambda x: (sorted(i) for i in x)\n",
    "print(list(sortList(List)))"
   ]
  },
  {
   "cell_type": "code",
   "execution_count": null,
   "metadata": {},
   "outputs": [],
   "source": []
  }
 ],
 "metadata": {
  "kernelspec": {
   "display_name": "Python 3",
   "language": "python",
   "name": "python3"
  },
  "language_info": {
   "codemirror_mode": {
    "name": "ipython",
    "version": 3
   },
   "file_extension": ".py",
   "mimetype": "text/x-python",
   "name": "python",
   "nbconvert_exporter": "python",
   "pygments_lexer": "ipython3",
   "version": "3.8.5"
  }
 },
 "nbformat": 4,
 "nbformat_minor": 4
}
