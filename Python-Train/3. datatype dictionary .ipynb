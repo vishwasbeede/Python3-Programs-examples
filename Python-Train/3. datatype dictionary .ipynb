{
 "cells": [
  {
   "cell_type": "code",
   "execution_count": 5,
   "metadata": {},
   "outputs": [
    {
     "name": "stdout",
     "output_type": "stream",
     "text": [
      "['__class__', '__contains__', '__delattr__', '__delitem__', '__dir__', '__doc__', '__eq__', '__format__', '__ge__', '__getattribute__', '__getitem__', '__gt__', '__hash__', '__init__', '__init_subclass__', '__iter__', '__le__', '__len__', '__lt__', '__ne__', '__new__', '__reduce__', '__reduce_ex__', '__repr__', '__reversed__', '__setattr__', '__setitem__', '__sizeof__', '__str__', '__subclasshook__', 'clear', 'copy', 'fromkeys', 'get', 'items', 'keys', 'pop', 'popitem', 'setdefault', 'update', 'values']\n"
     ]
    }
   ],
   "source": [
    "d1=dict()\n",
    "print(dir(dict))"
   ]
  },
  {
   "cell_type": "code",
   "execution_count": 26,
   "metadata": {},
   "outputs": [
    {
     "name": "stdout",
     "output_type": "stream",
     "text": [
      "{'user_id': 'aa1234', 'department': 'MS', 'Designation': 'IT Engineer', 'project': ['EventManagement', 'ReleaseManagement']}\n",
      "{'user_id': 'aa1234', 'department': 'MS', 'Designation': 'IT Engineer', 'project': ['EventManagement', 'ReleaseManagement']}\n"
     ]
    }
   ],
   "source": [
    "# Dictionary\n",
    "# dict()\n",
    "user=dict()\n",
    "user['user_id']=\"aa1234\"\n",
    "user['department']=\"MS\"\n",
    "user[\"Designation\"]=\"IT Engineer\"\n",
    "user[\"project\"]=[\"EventManagement\",\"ReleaseManagement\"]\n",
    "# user[\"location\"]=None\n",
    "print(user)\n",
    "# print(user.pop(\"project\"))\n",
    "# user.update({\"project\":[]})\n",
    "# user.setdefault(\"id\")\n",
    "# print(help(setdefault))\n",
    "# user.clear()\n",
    "print(user)"
   ]
  },
  {
   "cell_type": "code",
   "execution_count": 4,
   "metadata": {},
   "outputs": [
    {
     "name": "stdout",
     "output_type": "stream",
     "text": [
      "aa1234\n",
      "['EventManagement', 'ReleaseManagement']\n",
      "['EventManagement', 'MIM']\n",
      "None Key Not exists\n",
      "dict_items([('user_id', 'aa1234'), ('department', 'MS'), ('Designation', 'IT Engineer'), ('project', ['EventManagement', 'MIM'])])\n",
      "dict_keys(['user_id', 'department', 'Designation', 'project'])\n",
      "dict_values(['aa1234', 'MS', 'IT Engineer', ['EventManagement', 'MIM']])\n"
     ]
    }
   ],
   "source": [
    "# Dictinary creation in another way\n",
    "user = {\n",
    "    \"user_id\":\"aa1234\",\n",
    "    \"department\":\"MS\",\n",
    "    \"Designation\":\"IT Engineer\",\n",
    "    \"project\":[\"EventManagement\",\"ReleaseManagement\"]\n",
    "}\n",
    "\n",
    "# print(user)\n",
    "print(user[\"user_id\"])\n",
    "print(user[\"project\"])\n",
    "user[\"project\"].remove(\"ReleaseManagement\")\n",
    "user[\"project\"].append(\"MIM\")\n",
    "print(user[\"project\"])\n",
    "# dir(user)\n",
    "print(user.get(\"sdjk\"),\"Key Not exists\")\n",
    "user.get(\"project\")\n",
    "print(user.items())\n",
    "print(user.keys())\n",
    "print(user.values())"
   ]
  },
  {
   "cell_type": "code",
   "execution_count": 14,
   "metadata": {},
   "outputs": [
    {
     "name": "stdout",
     "output_type": "stream",
     "text": [
      "Name-1\n",
      "Name-2\n"
     ]
    }
   ],
   "source": [
    "X={\"name1\": 'Name-1',\"name2\":'Name-2'}\n",
    "x={}\n",
    "any(x)\n",
    "for item in sorted(X):\n",
    "    print(X[item])"
   ]
  },
  {
   "cell_type": "code",
   "execution_count": 28,
   "metadata": {},
   "outputs": [
    {
     "name": "stdout",
     "output_type": "stream",
     "text": [
      "{       'b': 'dsfsdfsdfsdfssdfdsdsdsdfsd',\n",
      "        'c': 3,\n",
      "        'd': {       'b': 'dsfsdfsdfsdfssdfdsdsdsdfsd',\n",
      "                     'c': 3,\n",
      "                     'd': {...},\n",
      "                     'sdfsdfsdfsdfsdfsdfsdfsdfsdfsd': 1},\n",
      "        'sdfsdfsdfsdfsdfsdfsdfsdfsdfsd': 1}\n",
      "{'b': 'dsfsdfsdfsdfssdfdsdsdsdfsd',\n",
      " 'c': 3,\n",
      " 'd': {'b': 'dsfsdfsdfsdfssdfdsdsdsdfsd',\n",
      "       'c': 3,\n",
      "       'd': {'b': 'dsfsdfsdfsdfssdfdsdsdsdfsd',\n",
      "             'c': 3,\n",
      "             'sdfsdfsdfsdfsdfsdfsdfsdfsdfsd': 1},\n",
      "       'sdfsdfsdfsdfsdfsdfsdfsdfsdfsd': 1},\n",
      " 'sdfsdfsdfsdfsdfsdfsdfsdfsdfsd': 1}\n"
     ]
    }
   ],
   "source": [
    "# Pretty print format for stdout\n",
    "import pprint ;\n",
    "\n",
    "mydict = { \n",
    "    \"sdfsdfsdfsdfsdfsdfsdfsdfsdfsd\" :1,\n",
    "    \"b\":  \"dsfsdfsdfsdfssdfdsdsdsdfsd\",\n",
    "    \"c\" : 3,\n",
    "    \"d\": {\"sdfsdfsdfsdfsdfsdfsdfsdfsdfsd\" :1,\n",
    "    \"b\":  \"dsfsdfsdfsdfssdfdsdsdsdfsd\",\"c\" : 3, \"d\": {\"sdfsdfsdfsdfsdfsdfsdfsdfsdfsd\" :1,\n",
    "    \"b\":  \"dsfsdfsdfsdfssdfdsdsdsdfsd\",\"c\" : 3}}\n",
    "}\n",
    "\n",
    "pprint.pprint(mydict,stream=None,indent=8, width=90, depth=2)\n",
    "pprint.pprint(mydict)\n",
    "# help(pprint.pprint)"
   ]
  },
  {
   "cell_type": "code",
   "execution_count": 1,
   "metadata": {},
   "outputs": [
    {
     "data": {
      "text/plain": [
       "'\\n1. Create a dict directory which stores telephone numbers (as string values), and populate it with these keyvalue pairs:\\nName Telephone number\\nJane Doe +27 555 5367\\nJohn Smith +27 555 6254\\nBob Stone +27 555 5689\\n2. Change Jane’s number to +27 555 1024\\n3. Add a new entry for a person called Anna Cooper with the phone number +27 555 3237\\n4. Print Bob’s number.\\n5. Print Bob’s number in such a way that None would be printed if Bob’s name were not in the dictionary.\\n6. Print all the keys. The format is unimportant, as long as they’re all visible.\\n7. Print all the values.\\n'"
      ]
     },
     "execution_count": 1,
     "metadata": {},
     "output_type": "execute_result"
    }
   ],
   "source": [
    "\"\"\"\n",
    "1. Create a dict directory which stores telephone numbers (as string values), and populate it with these key value pairs:\n",
    "Name Telephone number\n",
    "Jane Doe +27 555 5367\n",
    "John Smith +27 555 6254\n",
    "Bob Stone +27 555 5689\n",
    "2. Change Jane’s number to +27 555 1024\n",
    "3. Add a new entry for a person called Anna Cooper with the phone number +27 555 3237\n",
    "4. Print Bob’s number.\n",
    "5. Print Bob’s number in such a way that None would be printed if Bob’s name were not in the dictionary.\n",
    "6. Print all the keys. The format is unimportant, as long as they’re all visible.\n",
    "7. Print all the values.\n",
    "\"\"\""
   ]
  }
 ],
 "metadata": {
  "kernelspec": {
   "display_name": "Python 3",
   "language": "python",
   "name": "python3"
  },
  "language_info": {
   "codemirror_mode": {
    "name": "ipython",
    "version": 3
   },
   "file_extension": ".py",
   "mimetype": "text/x-python",
   "name": "python",
   "nbconvert_exporter": "python",
   "pygments_lexer": "ipython3",
   "version": "3.8.5"
  }
 },
 "nbformat": 4,
 "nbformat_minor": 4
}
