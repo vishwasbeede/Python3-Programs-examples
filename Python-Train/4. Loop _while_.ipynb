{
 "cells": [
  {
   "cell_type": "code",
   "execution_count": 2,
   "metadata": {},
   "outputs": [
    {
     "name": "stdout",
     "output_type": "stream",
     "text": [
      "['CLOCK_MONOTONIC', 'CLOCK_MONOTONIC_RAW', 'CLOCK_PROCESS_CPUTIME_ID', 'CLOCK_REALTIME', 'CLOCK_THREAD_CPUTIME_ID', '_STRUCT_TM_ITEMS', '__doc__', '__loader__', '__name__', '__package__', '__spec__', 'altzone', 'asctime', 'clock_getres', 'clock_gettime', 'clock_gettime_ns', 'clock_settime', 'clock_settime_ns', 'ctime', 'daylight', 'get_clock_info', 'gmtime', 'localtime', 'mktime', 'monotonic', 'monotonic_ns', 'perf_counter', 'perf_counter_ns', 'process_time', 'process_time_ns', 'pthread_getcpuclockid', 'sleep', 'strftime', 'strptime', 'struct_time', 'thread_time', 'thread_time_ns', 'time', 'time_ns', 'timezone', 'tzname', 'tzset']\n",
      "Terminated!!!\n"
     ]
    }
   ],
   "source": [
    "# While loop loop over statements until condition false\n",
    "import time\n",
    "# print(dir(time.ctime()))\n",
    "print(dir(time))\n",
    "while int(time.time())%4:\n",
    "#      print(\"HEllo\")\n",
    "    pass\n",
    "print(\"Terminated!!!\")\n",
    "# print(int(time.time()%4))\n",
    "    \n",
    "    \n",
    "    "
   ]
  },
  {
   "cell_type": "code",
   "execution_count": 12,
   "metadata": {
    "scrolled": true
   },
   "outputs": [
    {
     "name": "stdout",
     "output_type": "stream",
     "text": [
      "Enter the passwordfdsfds\n",
      "Entered incorrect password, attempts=1\n",
      "Enter the passwordsdfdsf\n",
      "Entered incorrect password, attempts=2\n",
      "Enter the passwordsdfsdfds\n",
      "Entered incorrect password, attempts=3\n",
      "Your account is locked\n"
     ]
    },
    {
     "ename": "SystemExit",
     "evalue": "Your account is locked",
     "output_type": "error",
     "traceback": [
      "An exception has occurred, use %tb to see the full traceback.\n",
      "\u001b[0;31mSystemExit\u001b[0m\u001b[0;31m:\u001b[0m Your account is locked\n"
     ]
    }
   ],
   "source": [
    "# Read user input, check if the passwords are valid, if incorrect password enetered ask again to enter the password\n",
    "# Print number of incorecct attempts\n",
    "import sys\n",
    "password_system = 'WeLcoMe123!'\n",
    "user_password=input(\"Enter the password\")\n",
    "attempts=0\n",
    "while password_system != user_password:\n",
    "    attempts+=1\n",
    "    print(f\"Entered incorrect password, attempts={attempts}\")\n",
    "    if attempts >= 3:\n",
    "        print(\"Your account is locked\")\n",
    "        sys.exit(\"Your account is locked\")\n",
    "    user_password=input(\"Enter the password\")\n",
    "print(\"Login successful\")\n",
    "\n"
   ]
  },
  {
   "cell_type": "code",
   "execution_count": 1,
   "metadata": {},
   "outputs": [
    {
     "name": "stdout",
     "output_type": "stream",
     "text": [
      "Enter a number: 12\n",
      "Enter a number: 12\n",
      "Enter a number: 0\n",
      "total = 24\n"
     ]
    }
   ],
   "source": [
    "# program to calculate the sum of numbers\n",
    "# until the user enters zero\n",
    "\n",
    "total = 0\n",
    "\n",
    "number = int(input('Enter a number: '))\n",
    "\n",
    "# add numbers until number is zero\n",
    "while number != 0:\n",
    "    total += number    # total = total + number\n",
    "    \n",
    "    # take integer input again\n",
    "    number = int(input('Enter a number: '))\n",
    "    \n",
    "\n",
    "print('total =', total)"
   ]
  },
  {
   "cell_type": "code",
   "execution_count": 6,
   "metadata": {},
   "outputs": [],
   "source": [
    "# while condition:\n",
    "    # run code until the condition evaluates to False\n",
    "    \n",
    "# while condition:\n",
    "#     STATEMENTS\n",
    "# false:\n",
    "#     STATEMENTS\n",
    "    \n",
    "#     The else block will not execute if the while loop is terminated by a break statement.\n",
    "# The for loop is usually used when the number of iterations is known\n",
    "# The while loop is usually used when the number of iterations is unknown.\n",
    "# If the condition of a loop is always True, the loop runs for infinite times (until the memory is full)."
   ]
  },
  {
   "cell_type": "code",
   "execution_count": null,
   "metadata": {},
   "outputs": [],
   "source": [
    "# Basic while loop:\n",
    "loop_count=12\n",
    "i=0\n",
    "while(loop_count<20):\n",
    "    print(f\"Iteration {loop_count}\")\n",
    "    print(\"code blocks\")\n",
    "    print(\"Hello\")\n",
    "\n",
    "    for i in range(4,9):\n",
    "        if (i==7):\n",
    "            continue\n",
    "#             break\n",
    "        print(i)\n",
    "        loop_count+=1\n",
    "    if (loop_count==13):\n",
    "           break\n",
    "#         continue\n"
   ]
  },
  {
   "cell_type": "code",
   "execution_count": 2,
   "metadata": {},
   "outputs": [
    {
     "data": {
      "text/plain": [
       "'\\n1. Write a program which uses a while loop to sum the squares of integers (starting from 1) until the total exceeds\\n200. \\nPrint the final total and the last number to be squared and added.\\n\\n2. Write a program which keeps prompting the user to guess a word. The user is allowed up to ten guesses –\\nwrite your code in such a way that the secret word and the number of allowed guesses are easy to change. Print\\nmessages to give the user feedback.\\n'"
      ]
     },
     "execution_count": 2,
     "metadata": {},
     "output_type": "execute_result"
    }
   ],
   "source": [
    "\"\"\"\n",
    "1. Write a program which uses a while loop to sum the squares of integers (starting from 1) until the total exceeds\n",
    "200. \n",
    "Print the final total and the last number to be squared and added.\n",
    "\n",
    "2. Write a program which keeps prompting the user to guess a word. The user is allowed up to ten guesses –\n",
    "write your code in such a way that the secret word and the number of allowed guesses are easy to change. Print\n",
    "messages to give the user feedback.\n",
    "\"\"\""
   ]
  },
  {
   "cell_type": "code",
   "execution_count": 6,
   "metadata": {},
   "outputs": [
    {
     "name": "stdout",
     "output_type": "stream",
     "text": [
      "2\n",
      "3\n",
      "4\n",
      "5\n",
      "6\n",
      "7\n",
      "200\n"
     ]
    }
   ],
   "source": [
    "# Write a program which uses a while loop to sum the squares of integers (starting from 1) until the total exceeds\n",
    "# 200.\n",
    "total = 1\n",
    "i=2\n",
    "while total < 200:\n",
    "    print(i)\n",
    "    i+=1\n",
    "    total=total+i*i\n",
    "print(total)"
   ]
  }
 ],
 "metadata": {
  "kernelspec": {
   "display_name": "Python 3",
   "language": "python",
   "name": "python3"
  },
  "language_info": {
   "codemirror_mode": {
    "name": "ipython",
    "version": 3
   },
   "file_extension": ".py",
   "mimetype": "text/x-python",
   "name": "python",
   "nbconvert_exporter": "python",
   "pygments_lexer": "ipython3",
   "version": "3.8.5"
  }
 },
 "nbformat": 4,
 "nbformat_minor": 4
}
