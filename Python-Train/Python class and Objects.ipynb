{
 "cells": [
  {
   "cell_type": "code",
   "execution_count": null,
   "metadata": {},
   "outputs": [],
   "source": [
    "# An object is simply a collection of data (variables) and methods (functions).\n",
    "# Similarly, a class is a blueprint for that object."
   ]
  },
  {
   "cell_type": "code",
   "execution_count": 8,
   "metadata": {},
   "outputs": [
    {
     "name": "stdout",
     "output_type": "stream",
     "text": [
      "0\n"
     ]
    }
   ],
   "source": [
    "# class ClassName:\n",
    "#     # class definition\n",
    "class Bike:\n",
    "    name = \"\"\n",
    "    gear = 0\n",
    "    \n",
    "a=Bike()\n",
    "# objectName = ClassName()\n",
    "print(a.gear)\n",
    "# Access Class Attributes Using Objects\n",
    "# modify the name attribute\n",
    "# bike1.name = \"Mountain Bike\"\n",
    "\n",
    "# # access the gear attribute\n",
    "# bike1.gear"
   ]
  },
  {
   "cell_type": "code",
   "execution_count": 9,
   "metadata": {},
   "outputs": [
    {
     "name": "stdout",
     "output_type": "stream",
     "text": [
      "Employee ID: 1001\n",
      "Employee ID: 1002\n"
     ]
    }
   ],
   "source": [
    "# define a class\n",
    "class Employee:\n",
    "    # define an attribute\n",
    "    employee_id = 0\n",
    "\n",
    "# create two objects of the Employee class\n",
    "employee1 = Employee()\n",
    "employee2 = Employee()\n",
    "\n",
    "# access attributes using employee1\n",
    "employee1.employeeID = 1001\n",
    "print(f\"Employee ID: {employee1.employeeID}\")\n",
    "\n",
    "# access attributes using employee2\n",
    "employee2.employeeID = 1002\n",
    "print(f\"Employee ID: {employee2.employeeID}\")"
   ]
  },
  {
   "cell_type": "code",
   "execution_count": 13,
   "metadata": {},
   "outputs": [
    {
     "name": "stdout",
     "output_type": "stream",
     "text": [
      "Area of Room = 1309.0\n"
     ]
    }
   ],
   "source": [
    "#  A Python Function defined inside a class is called a method.\n",
    "# create a class\n",
    "class Room:\n",
    "    length = 0.0\n",
    "    breadth = 0.0\n",
    "    \n",
    "    # method to calculate area\n",
    "    def calculate_area(self):\n",
    "        print(\"Area of Room =\", self.length * self.breadth)\n",
    "\n",
    "# create object of Room class\n",
    "study_room = Room()\n",
    "\n",
    "# assign values to all the attributes \n",
    "study_room.length = 42.5\n",
    "study_room.breadth = 30.8\n",
    "\n",
    "# access method inside class\n",
    "study_room.calculate_area()\n",
    "\n",
    "# Attributes: length and breadth\n",
    "# Method: calculate_area()\n",
    "#  __init__() is the constructor function that is called whenever a new object of that class is instantiated.\n"
   ]
  }
 ],
 "metadata": {
  "kernelspec": {
   "display_name": "Python 3",
   "language": "python",
   "name": "python3"
  },
  "language_info": {
   "codemirror_mode": {
    "name": "ipython",
    "version": 3
   },
   "file_extension": ".py",
   "mimetype": "text/x-python",
   "name": "python",
   "nbconvert_exporter": "python",
   "pygments_lexer": "ipython3",
   "version": "3.8.5"
  }
 },
 "nbformat": 4,
 "nbformat_minor": 4
}
