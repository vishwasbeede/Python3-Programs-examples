{
 "cells": [
  {
   "cell_type": "code",
   "execution_count": null,
   "metadata": {},
   "outputs": [],
   "source": [
    "\"\"\" FILI I/O \"\"\"\n",
    "\"\"\"\n",
    "Opening \n",
    "--------\n",
    "File location/path\n",
    "Filename\n",
    "mode ( read or write, append)\n",
    "type of file (binary or text)\n",
    "\n",
    "Reading\n",
    "-------\n",
    "How many lines to read\n",
    "How many chars to read\n",
    "\n",
    "Binary:\n",
    "how many chars to read\n",
    "is full file to be read\n",
    "\n",
    "variable\n",
    "\n",
    "\"\"\"\n"
   ]
  },
  {
   "cell_type": "code",
   "execution_count": 1,
   "metadata": {},
   "outputs": [
    {
     "name": "stdout",
     "output_type": "stream",
     "text": [
      "Error occuredL: %s [Errno 2] No such file or directory: 'responses.csv'\n"
     ]
    },
    {
     "ename": "NameError",
     "evalue": "name 'fobj' is not defined",
     "output_type": "error",
     "traceback": [
      "\u001b[0;31m---------------------------------------------------------------------------\u001b[0m",
      "\u001b[0;31mNameError\u001b[0m                                 Traceback (most recent call last)",
      "Input \u001b[0;32mIn [1]\u001b[0m, in \u001b[0;36m<cell line: 11>\u001b[0;34m()\u001b[0m\n\u001b[1;32m      7\u001b[0m     \u001b[38;5;28mprint\u001b[39m(\u001b[38;5;124m\"\u001b[39m\u001b[38;5;124mError occuredL: \u001b[39m\u001b[38;5;132;01m%s\u001b[39;00m\u001b[38;5;124m\"\u001b[39m, err);\n\u001b[1;32m      9\u001b[0m response_codes \u001b[38;5;241m=\u001b[39m [];\n\u001b[0;32m---> 11\u001b[0m \u001b[38;5;28;01mfor\u001b[39;00m line \u001b[38;5;129;01min\u001b[39;00m \u001b[43mfobj\u001b[49m:\n\u001b[1;32m     12\u001b[0m     line \u001b[38;5;241m=\u001b[39m line\u001b[38;5;241m.\u001b[39mstrip();\n\u001b[1;32m     13\u001b[0m     fields \u001b[38;5;241m=\u001b[39m line\u001b[38;5;241m.\u001b[39msplit(\u001b[38;5;124m\"\u001b[39m\u001b[38;5;124m,\u001b[39m\u001b[38;5;124m\"\u001b[39m);\n",
      "\u001b[0;31mNameError\u001b[0m: name 'fobj' is not defined"
     ]
    }
   ],
   "source": [
    "filename =  \"responses.csv\";\n",
    "\n",
    "try:\n",
    "    fobj =  open(filename, \"r\");\n",
    "    print(\"file opened successfully\")\n",
    "except Exception as err:\n",
    "    print(\"Error occuredL: %s\", err);\n",
    "    \n",
    "response_codes = [];\n",
    "\n",
    "for line in fobj:\n",
    "    line = line.strip();\n",
    "    fields = line.split(\",\");\n",
    "    fields[0] = int(fields[0])\n",
    "    fields[1] = int(fields[1])\n",
    "    response_codes.append(fields);\n",
    "    \n",
    "print (response_codes)  ;"
   ]
  },
  {
   "cell_type": "code",
   "execution_count": 2,
   "metadata": {},
   "outputs": [
    {
     "name": "stdout",
     "output_type": "stream",
     "text": [
      "Mail Sent!!!\n"
     ]
    }
   ],
   "source": [
    "\"\"\" Lets mail \"\"\"\n",
    "\n",
    "import smtplib ;\n",
    "from email.message import EmailMessage\n",
    "\n",
    "mailbody = \"\"\"\n",
    "Hi,\n",
    "\n",
    "This is test message from Python Training Class.\n",
    "\n",
    "--\n",
    "Regards\n",
    "Tutor.\n",
    "\n",
    "\"\"\"\n",
    "\n",
    "msg = EmailMessage() ;\n",
    "\n",
    "msg.set_content(mailbody);\n",
    "msg['To'] = \"vishwas.bg@lumen.com\" ;\n",
    "msg['Subject'] = \"Test Email from Python\" ;\n",
    "msg['From'] = 'PythonTraining@lumen.com' ;\n",
    "\n",
    "s = smtplib.SMTP('localhost');\n",
    "s.send_message(msg);\n",
    "s.quit();\n",
    "\n",
    "print (\"Mail Sent!!!\")"
   ]
  },
  {
   "cell_type": "code",
   "execution_count": 3,
   "metadata": {},
   "outputs": [
    {
     "name": "stdout",
     "output_type": "stream",
     "text": [
      "<_io.TextIOWrapper name='myfile.txt' mode='w+' encoding='UTF-8'>\n",
      "karthik kumar is of Age: 35\n",
      "dsouza jack is of Age: 15\n",
      "mary rose is of Age: 22\n"
     ]
    }
   ],
   "source": [
    "#open\n",
    "#read\n",
    "#write\n",
    "#close\n",
    "\n",
    "#rename\n",
    "#mkdir\n",
    "#remove/del\n",
    "#chmod\n",
    "\n",
    "fileobj =  open(\"myfile.txt\",\"w+\") ;\n",
    "\n",
    "print ( fileobj );\n",
    "\n",
    "#print ( dir( fileobj) )\n",
    "\n",
    "mycontent = [\n",
    "    \"name,age\\n\",\n",
    "    \"kumar,karthik,35\\n\",\n",
    "    \"jack,dsouza,15\\n\",\n",
    "    \"rose,mary,22\\n\"\n",
    "]\n",
    "\n",
    "#print (mycontent)\n",
    "\n",
    "#fileobj.writelines( mycontent  )\n",
    "\n",
    "import sys ;\n",
    "\n",
    "for line in mycontent:\n",
    "    fileobj.write(line);\n",
    "\n",
    "fileobj.close();\n",
    "\n",
    "try:\n",
    "    \n",
    "    fileobj_read = open(\"myfile.txt\", \"r\");\n",
    "except FileNotFoundError as error:\n",
    "    print(\"Error: \", error);\n",
    "    \n",
    "\n",
    "#print ( fileobj_read.read(10) )\n",
    "\n",
    "#print ( fileobj_read.readlines() )\n",
    "\n",
    "firstline=1;\n",
    "\n",
    "for line in fileobj_read:\n",
    "    if (firstline == 1):\n",
    "        firstline=0;\n",
    "        continue;\n",
    "    line = line.strip(\"\\n\");\n",
    "    #print ( line, end=\"\" );\n",
    "    fields = line.split(\",\") ;\n",
    "    #print(fields)\n",
    "    #age = fields[2];\n",
    "    print (\"{first} {last} is of Age: {age}\".format(first=fields[1], last=fields[0],  age=fields[2]) )\n",
    "\n",
    "\n",
    "#print ( dir(fileobj_read) )"
   ]
  },
  {
   "cell_type": "code",
   "execution_count": 8,
   "metadata": {},
   "outputs": [
    {
     "name": "stdout",
     "output_type": "stream",
     "text": [
      "['one', 'two', 'three', 'four', 'five', 'six', 'seven', 'eight', 'nine\\n']\n",
      "0\n",
      "two\n",
      "four\n",
      "one\n",
      "['asd', 'asd', 'as', 'd', 'as', 'ads', 'sad', 's', 'da', 'sda', 'asd', 'asd', 'asd', 'sad', '', 'sad', 'sda']\n",
      "0\n",
      "asd\n",
      "d\n",
      "asd\n"
     ]
    }
   ],
   "source": [
    "filecontent = [ \"one,two,three,four,five,six,seven,eight,nine\" ] ;\n",
    "\n",
    "# try:\n",
    "#     fw = open(\"wordsfile.txt\", \"w\");\n",
    "#     fw.writelines(filecontent);\n",
    "#     fw.close();\n",
    "# except:\n",
    "#     print (\"Write Error occured\")\n",
    "    \n",
    "try:\n",
    "    fr = open(\"wordsfile.txt\", \"r\");\n",
    "    for line in fr:\n",
    "        words = line.split(\",\")\n",
    "        #print(line)\n",
    "        print (words)\n",
    "        print(w)\n",
    "        for w in (1,3,0):\n",
    "            print(words[w]);\n",
    "#     fw.close();\n",
    "except:\n",
    "    print (\"Read Error occured\")"
   ]
  }
 ],
 "metadata": {
  "kernelspec": {
   "display_name": "Python 3",
   "language": "python",
   "name": "python3"
  },
  "language_info": {
   "codemirror_mode": {
    "name": "ipython",
    "version": 3
   },
   "file_extension": ".py",
   "mimetype": "text/x-python",
   "name": "python",
   "nbconvert_exporter": "python",
   "pygments_lexer": "ipython3",
   "version": "3.8.5"
  }
 },
 "nbformat": 4,
 "nbformat_minor": 4
}
