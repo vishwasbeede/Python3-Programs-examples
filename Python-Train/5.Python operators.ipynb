{
 "cells": [
  {
   "cell_type": "code",
   "execution_count": 51,
   "metadata": {},
   "outputs": [
    {
     "name": "stdout",
     "output_type": "stream",
     "text": [
      "SUM of all quantities is 188000\n",
      "Exponential operations of 2 ** 3 is =  8\n",
      "# If buyer get all items for 175000, the avg price will be  : 9285.714285714286\n",
      "9285\n",
      "15\n",
      "27\n"
     ]
    }
   ],
   "source": [
    "#Opeartion is combination of operands and operators which on execution gives result\n",
    "#opearators are charecters used in programming language to perfrom specific functions\n",
    "# Consider we have 10 Android V12 mobiles of each cost 10000, 11 pices of Androd V11 mobiles of 8000\n",
    "# \n",
    "# Arithmetic operation\n",
    "# \n",
    "# Cost for purchasing all item, we need to perform arithmetic operations, sum and product\n",
    "quantity_1=10\n",
    "price_1=10000\n",
    "quantity_2=11\n",
    "price_2=8000\n",
    "\n",
    "sum = quantity_1 * price_1 + quantity_2 * price_2\n",
    "print(\"SUM of all quantities is\", sum)\n",
    "# Rules (PEMDAS) followed by interpretor for evaluting results from left to right\n",
    "\n",
    "print(\"Exponential operations of 2 ** 3 is = \",2**3)\n",
    "\n",
    "# If buyer get all items for 175000, the avg price will be as below\n",
    "print(\"# If buyer get all items for 175000, the avg price will be  : \",end =\"\")\n",
    "print(195000/21) # Impleict typecasting\n",
    "print(195000//21) # Floor divison ignores the decimal, results of operations is whole number adjusted to the left hand side in the number line.\n",
    "print(195000%21) # Modulo operator returns the reminder\n",
    "# print(2 <> 5)\n",
    "res=23\n",
    "init=2\n",
    "res+=init #23+2\n",
    "res+=init  #res= res+ init\n",
    "print(res)"
   ]
  },
  {
   "cell_type": "code",
   "execution_count": 41,
   "metadata": {},
   "outputs": [
    {
     "name": "stdout",
     "output_type": "stream",
     "text": [
      "12\n"
     ]
    }
   ],
   "source": [
    "print(12%27)"
   ]
  },
  {
   "cell_type": "code",
   "execution_count": 25,
   "metadata": {},
   "outputs": [
    {
     "name": "stdout",
     "output_type": "stream",
     "text": [
      "False\n",
      "True\n",
      "False\n",
      "True\n",
      "False\n",
      "True\n",
      "False\n",
      "True\n",
      "True\n",
      "False\n"
     ]
    }
   ],
   "source": [
    "# Comapre the prices of V11 and V12 mobiles\n",
    "quantity_1=10 #Assignment opeartors\n",
    "price_1=10000\n",
    "quantity_2=13\n",
    "price_2=8000\n",
    "\n",
    "print(price_1 == price_2)\n",
    "print(price_1 != price_2)\n",
    "print(price_1 <= price_2)\n",
    "print(price_1 >= price_2)\n",
    "print(price_1*quantity_1 >= price_2*quantity_2)\n",
    "\n",
    "l1=[\"a\",\"b\",\"c\"]\n",
    "l2=[\"a\",\"b\",\"c\"]\n",
    "print(len(l1) >= len(l2))\n",
    "\n",
    "s1=\"sdsd\"\n",
    "s2=\"sdsd\"\n",
    "# Idenetity \n",
    "print(l1 is l2)\n",
    "print(s1 is s2)\n",
    "\n",
    "# Membership operators --> Return values/results  are in Boolean values\n",
    "print(\"\", \"a\" in l1)\n",
    "print(\"Hello\" in l2)\n"
   ]
  },
  {
   "cell_type": "code",
   "execution_count": 2,
   "metadata": {},
   "outputs": [
    {
     "data": {
      "text/plain": [
       "'\\nwrite a simple program which asks the user for the distance travelled by a car, and the\\nmonetary value of the petrol that was used to cover that distance. From this information, together with the price per\\nlitre of petrol, the program will calculate the efficiency of the car,\\nboth in litres per 100 kilometresand and kilometres\\nper litre.\\n'"
      ]
     },
     "execution_count": 2,
     "metadata": {},
     "output_type": "execute_result"
    }
   ],
   "source": []
  }
 ],
 "metadata": {
  "kernelspec": {
   "display_name": "Python 3",
   "language": "python",
   "name": "python3"
  },
  "language_info": {
   "codemirror_mode": {
    "name": "ipython",
    "version": 3
   },
   "file_extension": ".py",
   "mimetype": "text/x-python",
   "name": "python",
   "nbconvert_exporter": "python",
   "pygments_lexer": "ipython3",
   "version": "3.8.5"
  }
 },
 "nbformat": 4,
 "nbformat_minor": 4
}
