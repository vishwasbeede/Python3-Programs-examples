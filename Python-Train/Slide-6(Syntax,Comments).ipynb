{
 "cells": [
  {
   "cell_type": "code",
   "execution_count": 31,
   "metadata": {},
   "outputs": [
    {
     "name": "stdout",
     "output_type": "stream",
     "text": [
      "Hello1\n",
      "Hello2\n"
     ]
    }
   ],
   "source": [
    "# This is a comment\n",
    "# Help user to understand the code implementation/variables, what code is doing in normal english language.\n",
    "# code which is commentted is not executed by the translator\n",
    "def hello_users():\n",
    "    print(\"Hello1\")\n",
    "\n",
    "hello_users()\n",
    "\n",
    "# Synatx, Similar to every languages, python code needs to follow certain rules for creating scripts/programs, else python \n",
    "# When interpreter fails to execute pgm throws exception synatxError when encoters invalid error\n",
    "# Indentation error is also kind of syntax error\n",
    "# SyntaxError\n",
    "# Function definition/header Conditional statements/loop/ should ens with :\n",
    "\n",
    "if True:\n",
    "    print(\"Hello2\")\n"
   ]
  }
 ],
 "metadata": {
  "kernelspec": {
   "display_name": "Python 3",
   "language": "python",
   "name": "python3"
  },
  "language_info": {
   "codemirror_mode": {
    "name": "ipython",
    "version": 3
   },
   "file_extension": ".py",
   "mimetype": "text/x-python",
   "name": "python",
   "nbconvert_exporter": "python",
   "pygments_lexer": "ipython3",
   "version": "3.8.5"
  }
 },
 "nbformat": 4,
 "nbformat_minor": 4
}
