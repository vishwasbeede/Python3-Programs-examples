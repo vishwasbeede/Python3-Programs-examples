{
 "cells": [
  {
   "cell_type": "code",
   "execution_count": 6,
   "metadata": {},
   "outputs": [
    {
     "name": "stdout",
     "output_type": "stream",
     "text": [
      "['__class__', '__contains__', '__delattr__', '__delitem__', '__dir__', '__doc__', '__eq__', '__format__', '__ge__', '__getattribute__', '__getitem__', '__gt__', '__hash__', '__init__', '__init_subclass__', '__iter__', '__le__', '__len__', '__lt__', '__ne__', '__new__', '__reduce__', '__reduce_ex__', '__repr__', '__reversed__', '__setattr__', '__setitem__', '__sizeof__', '__str__', '__subclasshook__', 'clear', 'copy', 'fromkeys', 'get', 'items', 'keys', 'pop', 'popitem', 'setdefault', 'update', 'values']\n"
     ]
    }
   ],
   "source": [
    "# print(dir(__builtins__))\n",
    "# print(dir(globals()))\n",
    "# print(dir(locals()))"
   ]
  },
  {
   "cell_type": "code",
   "execution_count": 4,
   "metadata": {},
   "outputs": [
    {
     "name": "stdout",
     "output_type": "stream",
     "text": [
      "{'__name__': '__main__', '__doc__': 'Automatically created module for IPython interactive environment', '__package__': None, '__loader__': None, '__spec__': None, '__builtin__': <module 'builtins' (built-in)>, '__builtins__': <module 'builtins' (built-in)>, '_ih': ['', 'script_name=\"abc.py\"\\nprint(globals())', 'script_name=\"abc.py\"\\nprint(globals())', 'script_name=\"abc.py\"\\nprint(globals())', 'script_name=\"abc.py\"\\nprint(globals())'], '_oh': {}, '_dh': [PosixPath('/training/python/notebooks/ad04398')], 'In': ['', 'script_name=\"abc.py\"\\nprint(globals())', 'script_name=\"abc.py\"\\nprint(globals())', 'script_name=\"abc.py\"\\nprint(globals())', 'script_name=\"abc.py\"\\nprint(globals())'], 'Out': {}, 'get_ipython': <bound method InteractiveShell.get_ipython of <ipykernel.zmqshell.ZMQInteractiveShell object at 0x7fbffbdf1cd0>>, 'exit': <IPython.core.autocall.ZMQExitAutocall object at 0x7fbff8b15550>, 'quit': <IPython.core.autocall.ZMQExitAutocall object at 0x7fbff8b15550>, '_': '', '__': '', '___': '', '_i': 'script_name=\"abc.py\"\\nprint(globals())', '_ii': 'script_name=\"abc.py\"\\nprint(globals())', '_iii': 'script_name=\"abc.py\"\\nprint(globals())', '_i1': 'script_name=\"abc.py\"\\nprint(globals())', 'script_name': 'abc.py', '_i2': 'script_name=\"abc.py\"\\nprint(globals())', '_i3': 'script_name=\"abc.py\"\\nprint(globals())', '_i4': 'script_name=\"abc.py\"\\nprint(globals())'}\n"
     ]
    }
   ],
   "source": [
    "script_name=\"abc.py\"\n",
    "print(globals())"
   ]
  }
 ],
 "metadata": {
  "kernelspec": {
   "display_name": "Python 3",
   "language": "python",
   "name": "python3"
  },
  "language_info": {
   "codemirror_mode": {
    "name": "ipython",
    "version": 3
   },
   "file_extension": ".py",
   "mimetype": "text/x-python",
   "name": "python",
   "nbconvert_exporter": "python",
   "pygments_lexer": "ipython3",
   "version": "3.8.5"
  }
 },
 "nbformat": 4,
 "nbformat_minor": 4
}
