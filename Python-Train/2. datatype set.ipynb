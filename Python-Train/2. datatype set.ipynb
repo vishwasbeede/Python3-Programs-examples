{
 "cells": [
  {
   "cell_type": "code",
   "execution_count": 4,
   "metadata": {},
   "outputs": [
    {
     "name": "stdout",
     "output_type": "stream",
     "text": [
      "{1, 2, 3, 5, 7}\n",
      "{1, 2, 3, 65, 5, 34, 7, 76, 23}\n",
      "{1, 2, 3, 5, 7, 76}\n",
      "['__and__', '__class__', '__contains__', '__delattr__', '__dir__', '__doc__', '__eq__', '__format__', '__ge__', '__getattribute__', '__gt__', '__hash__', '__iand__', '__init__', '__init_subclass__', '__ior__', '__isub__', '__iter__', '__ixor__', '__le__', '__len__', '__lt__', '__ne__', '__new__', '__or__', '__rand__', '__reduce__', '__reduce_ex__', '__repr__', '__ror__', '__rsub__', '__rxor__', '__setattr__', '__sizeof__', '__str__', '__sub__', '__subclasshook__', '__xor__', 'add', 'clear', 'copy', 'difference', 'difference_update', 'discard', 'intersection', 'intersection_update', 'isdisjoint', 'issubset', 'issuperset', 'pop', 'remove', 'symmetric_difference', 'symmetric_difference_update', 'union', 'update']\n",
      "{1, 2, 3, 5, 7, 76, 245}\n",
      "frozenset({65, 1, 34, 234, 45})\n",
      "<class 'frozenset'>\n",
      "['__and__', '__class__', '__contains__', '__delattr__', '__dir__', '__doc__', '__eq__', '__format__', '__ge__', '__getattribute__', '__gt__', '__hash__', '__init__', '__init_subclass__', '__iter__', '__le__', '__len__', '__lt__', '__ne__', '__new__', '__or__', '__rand__', '__reduce__', '__reduce_ex__', '__repr__', '__ror__', '__rsub__', '__rxor__', '__setattr__', '__sizeof__', '__str__', '__sub__', '__subclasshook__', '__xor__', 'copy', 'difference', 'intersection', 'isdisjoint', 'issubset', 'issuperset', 'symmetric_difference', 'union']\n",
      "{1, 2, 3, 5, 7, 76, 245}\n",
      "{5, 7, 76, 245, 56}\n",
      "Differences\n",
      "{5, 7, 76, 245, 56}\n",
      "Intersection\n",
      "{56}\n",
      "frozenset({1})\n",
      "{5, 7, 76, 245, 56}\n"
     ]
    }
   ],
   "source": [
    "z=set([1,2,3,5,7,3,2,1])\n",
    "print(z)\n",
    "z.discard(1) #Remove elements from set\n",
    "z1={1,5,3,2,76}\n",
    "z.update(z1) # update the values with combine another set, update the value of operand variable\n",
    "\n",
    "z2=z.union({1,23,65,34}) #Union iperation of set combine two swt values\n",
    "z3=set([1,2,3,56])\n",
    "\n",
    "print(z2)\n",
    "# z.udpate([1,23]) #AttributeError\n",
    "print(z)\n",
    "print(dir(z))\n",
    "z.add(245)\n",
    "# z.add(set([23,24])) #Add only another element to set \n",
    "print(z)\n",
    "\n",
    "set_1=frozenset([1,234,45,45,65,34])\n",
    "print(set_1)\n",
    "print(type(set_1))\n",
    "\n",
    "print(dir(set_1))\n",
    "print(z)\n",
    "z.symmetric_difference_update(z3)\n",
    "print(z)\n",
    "z.intersection(set([1,2,3,56]))\n",
    "print(\"Differences\")\n",
    "print(z.difference(set_1))\n",
    "print(\"Intersection\")\n",
    "z_int = z.intersection(z3)\n",
    "fr_set=frozenset([1,23,44,23,78])\n",
    "z_int1 = fr_set.intersection(set_1)\n",
    "# Can perform operation together combine frozen set and set \n",
    "print(z_int)\n",
    "print(z_int1)\n",
    "print(z)\n",
    "\n",
    "\n"
   ]
  },
  {
   "cell_type": "code",
   "execution_count": 5,
   "metadata": {},
   "outputs": [
    {
     "name": "stdout",
     "output_type": "stream",
     "text": [
      "{1, 76, 45, 435, 86, 23, 56, 7898}\n",
      "<class 'set'>\n",
      "1 76 45 435 86 23 56 7898 "
     ]
    }
   ],
   "source": [
    "# Loop over set of items\n",
    "loop_var = {1,23,435,45,56,76,86,7898}\n",
    "print(loop_var)\n",
    "print(type(loop_var))\n",
    "for i in loop_var:\n",
    "    print(i,end=' ')"
   ]
  },
  {
   "cell_type": "code",
   "execution_count": 12,
   "metadata": {},
   "outputs": [
    {
     "data": {
      "text/plain": [
       "set"
      ]
     },
     "execution_count": 12,
     "metadata": {},
     "output_type": "execute_result"
    }
   ],
   "source": [
    "z=set(['1','2','2'])\n",
    "add() #Add single element to the set\n",
    "update() #Add elements from another set\n",
    "type(z)"
   ]
  },
  {
   "cell_type": "code",
   "execution_count": null,
   "metadata": {},
   "outputs": [],
   "source": [
    "\"\"\"\n",
    "1. Create a set a which contains the first four positive integers and a set b which contains the first four odd positive\n",
    "integers.\n",
    "2. Create a set c which combines all the numbers which are in a or b (or both).\n",
    "3. Create a set d which contains all the numbers in a but not in b.\n",
    "4. Create a set e which contains all the numbers in b but not in a.\n",
    "5. Create a set f which contains all the numbers which are both in a and in b.\n",
    "6. Create a set g which contains all the numbers which are either in a or in b but not in both.\n",
    "7. Print the number of elements in c.\n",
    "\"\"\""
   ]
  }
 ],
 "metadata": {
  "kernelspec": {
   "display_name": "Python 3",
   "language": "python",
   "name": "python3"
  },
  "language_info": {
   "codemirror_mode": {
    "name": "ipython",
    "version": 3
   },
   "file_extension": ".py",
   "mimetype": "text/x-python",
   "name": "python",
   "nbconvert_exporter": "python",
   "pygments_lexer": "ipython3",
   "version": "3.8.5"
  }
 },
 "nbformat": 4,
 "nbformat_minor": 4
}
