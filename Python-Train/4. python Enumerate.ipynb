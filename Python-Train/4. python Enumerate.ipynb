{
 "cells": [
  {
   "cell_type": "code",
   "execution_count": 17,
   "metadata": {},
   "outputs": [
    {
     "data": {
      "text/plain": [
       "'\\nenumerate used to map sequence of items to tuple with index and values, useful when index needs to be used inside the loops.\\navoid complexity, simple to read\\n'"
      ]
     },
     "execution_count": 17,
     "metadata": {},
     "output_type": "execute_result"
    }
   ],
   "source": [
    "\"\"\"\n",
    "enumerate used to map sequence of items to tuple with index and values, useful when index needs to be used inside the loops.\n",
    "avoid complexity, simple to read\n",
    "\"\"\"\n"
   ]
  },
  {
   "cell_type": "code",
   "execution_count": 10,
   "metadata": {},
   "outputs": [
    {
     "name": "stdout",
     "output_type": "stream",
     "text": [
      "1 0\n",
      "2 1\n",
      "3 2\n",
      "4 3\n",
      "5 4\n"
     ]
    }
   ],
   "source": [
    "list_1 = [1,2,3,4,5,6]\n",
    "for index in range(0,len(list_1)-1):\n",
    "    print(list_1[index],index)"
   ]
  },
  {
   "cell_type": "code",
   "execution_count": 9,
   "metadata": {},
   "outputs": [
    {
     "name": "stdout",
     "output_type": "stream",
     "text": [
      "1 0\n",
      "2 1\n",
      "3 2\n",
      "4 3\n",
      "5 4\n",
      "6 5\n"
     ]
    }
   ],
   "source": [
    "list_1 = [1,2,3,4,5,6]\n",
    "for item in list_1:\n",
    "    print(item, list_1.index(item))"
   ]
  },
  {
   "cell_type": "code",
   "execution_count": 30,
   "metadata": {},
   "outputs": [
    {
     "name": "stdout",
     "output_type": "stream",
     "text": [
      "  1\n",
      "1 2\n",
      "  3\n",
      "3 4\n",
      "  5\n",
      "5 6\n"
     ]
    }
   ],
   "source": [
    "# Enumerate list\n",
    "list_1 = enumerate([1,2,3,4,5,6])\n",
    "for index,item in list_1:\n",
    "    if(index%2==0):\n",
    "        print(\"  %d\"%item)\n",
    "    else:\n",
    "        print(index,item)"
   ]
  },
  {
   "cell_type": "code",
   "execution_count": 23,
   "metadata": {},
   "outputs": [
    {
     "name": "stdout",
     "output_type": "stream",
     "text": [
      "1 0\n",
      "2 1\n",
      "3 2\n",
      "4 3\n",
      "5 4\n",
      "6 5\n"
     ]
    }
   ],
   "source": [
    "# Enumerate tuple\n",
    "list_1 = enumerate((1,2,3,4,5,6))\n",
    "for index,item in list_1:\n",
    "    print(item,index)"
   ]
  },
  {
   "cell_type": "code",
   "execution_count": 20,
   "metadata": {},
   "outputs": [
    {
     "name": "stdout",
     "output_type": "stream",
     "text": [
      "( 0\n",
      "1 1\n",
      ", 2\n",
      "2 3\n",
      ", 4\n",
      "3 5\n",
      ", 6\n",
      "4 7\n",
      ", 8\n",
      "5 9\n",
      ", 10\n",
      "6 11\n",
      ") 12\n"
     ]
    }
   ],
   "source": [
    "# String\n",
    "list_1 = enumerate(\"(1,2,3,4,5,6)\")\n",
    "for index,item in list_1:\n",
    "    print(item,index)"
   ]
  },
  {
   "cell_type": "code",
   "execution_count": 22,
   "metadata": {},
   "outputs": [
    {
     "name": "stdout",
     "output_type": "stream",
     "text": [
      ") 0\n",
      "1 1\n",
      "( 2\n",
      "2 3\n",
      "5 4\n",
      "3 5\n",
      "6 6\n",
      "4 7\n",
      ", 8\n"
     ]
    }
   ],
   "source": [
    "# Set\n",
    "list_1 = enumerate(set(\"(1,2,3,4,5,6)\"))\n",
    "for index,item in list_1:\n",
    "    print(item,index)"
   ]
  }
 ],
 "metadata": {
  "kernelspec": {
   "display_name": "Python 3",
   "language": "python",
   "name": "python3"
  },
  "language_info": {
   "codemirror_mode": {
    "name": "ipython",
    "version": 3
   },
   "file_extension": ".py",
   "mimetype": "text/x-python",
   "name": "python",
   "nbconvert_exporter": "python",
   "pygments_lexer": "ipython3",
   "version": "3.8.5"
  }
 },
 "nbformat": 4,
 "nbformat_minor": 4
}
