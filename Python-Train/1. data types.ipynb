{
 "cells": [
  {
   "cell_type": "code",
   "execution_count": 1,
   "metadata": {},
   "outputs": [],
   "source": [
    "# Text Type:\tstr\n",
    "# Numeric Types:\tint, float, complex\n",
    "# Sequence Types:\tlist, tuple, range\n",
    "# Mapping Type:\tdict\n",
    "# Set Types:\tset, frozenset\n",
    "# Boolean Type:\tbool\n",
    "# Binary Types:\tbytes, bytearray, memoryview \n",
    "# Stored in binary ASCII charecters\n",
    "# None Type:\tNoneType\n",
    "\n",
    "# Python has above built-in data types\n",
    "\n"
   ]
  },
  {
   "cell_type": "code",
   "execution_count": null,
   "metadata": {},
   "outputs": [],
   "source": []
  },
  {
   "cell_type": "code",
   "execution_count": 6,
   "metadata": {},
   "outputs": [
    {
     "name": "stdout",
     "output_type": "stream",
     "text": [
      "b'\\xa2\\xf7E\\t'\n",
      "a2f74509\n",
      "b'PYZ'\n",
      "3\n",
      "4\n",
      "(b'Mumbai', b',', b'Kolkata,Delhi,Hyderabad')\n",
      "114\n",
      "b'trin'\n"
     ]
    }
   ],
   "source": [
    "hexStr = bytes.fromhex('A2f7 4509')\n",
    "print(hexStr)\n",
    "byteString = b'\\xa2\\xf7E\\t'\n",
    "print(byteString.hex())\n",
    "\n",
    "bArray1 = b\"XYZ\"\n",
    "bArray2 = bArray1.replace(b\"X\", b\"P\")\n",
    "print(bArray2)\n",
    "\n",
    "byteArray1 = b'ABBACACBBACA'\n",
    "print(byteArray1.count(b'AC'))\n",
    "\n",
    "print(byteArray1.find(b'CA'))\n",
    "bArr = b'Mumbai,Kolkata,Delhi,Hyderabad'\n",
    "partList = bArr.partition(b',')\n",
    "print(partList)\n",
    "\n",
    "myByteArray = bytearray('String', 'UTF-8')\n",
    "memView = memoryview(myByteArray)\n",
    "\n",
    "print(memView[2]) #ASCII of 'r'\n",
    "print(bytes(memView[1:5]))"
   ]
  }
 ],
 "metadata": {
  "kernelspec": {
   "display_name": "Python 3",
   "language": "python",
   "name": "python3"
  },
  "language_info": {
   "codemirror_mode": {
    "name": "ipython",
    "version": 3
   },
   "file_extension": ".py",
   "mimetype": "text/x-python",
   "name": "python",
   "nbconvert_exporter": "python",
   "pygments_lexer": "ipython3",
   "version": "3.8.5"
  }
 },
 "nbformat": 4,
 "nbformat_minor": 4
}
