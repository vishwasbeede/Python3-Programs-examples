{
 "cells": [
  {
   "cell_type": "code",
   "execution_count": null,
   "metadata": {},
   "outputs": [],
   "source": [
    "# In Python, the for loop is used to run a block of code for a certain number of times.\n",
    "# It is used to iterate over any sequences such as list, tuple, string, etc.\n",
    "# Python for loop with else"
   ]
  },
  {
   "cell_type": "code",
   "execution_count": 9,
   "metadata": {},
   "outputs": [
    {
     "name": "stdout",
     "output_type": "stream",
     "text": [
      "7\n",
      "VIBGYOR"
     ]
    }
   ],
   "source": [
    "# iterate over items in list,set,dictionary(keys or items),range of numbers\n",
    "\n",
    "list_colors= [\"Violet\",\"Indigo\",\"Blue\",\"Green\",\"Yellow\",\"Orange\",\"Red\"]\n",
    "print(len(list_colors))\n",
    "for item in list_colors:\n",
    "    print(item[0],end=\"\")\n",
    "#     if item[0] == \"I\":\n",
    "#         continue\n",
    "#     print(\"*\",end=\"\")\n",
    "# else:\n",
    "#     print(\"Done!!!\")\n",
    "\n",
    "    "
   ]
  },
  {
   "cell_type": "code",
   "execution_count": 44,
   "metadata": {},
   "outputs": [
    {
     "name": "stdout",
     "output_type": "stream",
     "text": [
      "['usr5', 'usr2', 'usr6', 'usr7', 'usr8', 'usr9', 'usr10']\n",
      "created user usr1\n",
      "removed user usr2\n",
      "created user usr3\n",
      "created user usr4\n",
      "removed user usr7\n",
      "created user usr11\n",
      "['usr5', 'usr6', 'usr8', 'usr9', 'usr10', 'usr1', 'usr3', 'usr4', 'usr11']\n"
     ]
    }
   ],
   "source": [
    "# Sample script to create or remove users in system\n",
    "\n",
    "users_gropus = [\"usr1\",\"usr2\",\"usr3\",\"usr4\",\"usr5\",\"usr6\",\"usr7\",\"usr8\",\"usr9\",\"usr10\",\"usr11\"] #Current users present in server\n",
    "users_deactivated = [\"usr2\",\"usr7\"]\n",
    "# users_exists = cat /etc/passwd\n",
    "users_exists=[\"usr5\",\"usr2\",\"usr6\",\"usr7\",\"usr8\",\"usr9\",\"usr10\"] #Users currnet state \n",
    "print(users_exists)\n",
    "\n",
    "for user in users_gropus:\n",
    "#     if usrs_group\n",
    "    if user in users_deactivated:\n",
    "        users_exists.remove(user)\n",
    "#         Add commamd to remove user\n",
    "        print(\"removed user\",user)\n",
    "    if user not in users_exists and user not in users_deactivated:\n",
    "        users_exists.append(user)\n",
    "#        command create user\n",
    "        print(\"created user\",user)\n",
    "# Above loop created a users, List method remove and append is used result as below\n",
    "print(users_exists)\n",
    "\n",
    "    "
   ]
  },
  {
   "cell_type": "code",
   "execution_count": 13,
   "metadata": {},
   "outputs": [
    {
     "name": "stdout",
     "output_type": "stream",
     "text": [
      "range(2, 20, 3)\n",
      "2 5 8 11 14 17 "
     ]
    }
   ],
   "source": [
    "range_numbers= range(2,20,3)\n",
    "print(range_numbers)\n",
    "for i in range_numbers:\n",
    "    print(i,end=\" \")"
   ]
  },
  {
   "cell_type": "code",
   "execution_count": 60,
   "metadata": {},
   "outputs": [
    {
     "name": "stdout",
     "output_type": "stream",
     "text": [
      "['aa67756', 'ab01145', 'ab21609', 'ab37657', 'ab38686', 'ab40054', 'ab53505', 'ab57773', 'ab67817', 'ab77127']\n",
      "['ab09507', 'ab20467', 'ab50779', 'ab57773', 'ab64495', 'ab67817', 'ab68624']\n",
      "617\n"
     ]
    }
   ],
   "source": [
    "# List comprehension\n",
    "# !uname -a\n",
    "users_data = !cat /etc/passwd | awk -F: '{print $1}'\n",
    "# print(users_data)\n",
    "user_ids = [user for user in users_data if user.startswith('a') and len(user)==7 ]\n",
    "print(sorted(user_ids[:10]))\n",
    "print(sorted(user_ids[8:15]))\n",
    "print(len(user_ids))"
   ]
  },
  {
   "cell_type": "code",
   "execution_count": 1,
   "metadata": {},
   "outputs": [
    {
     "data": {
      "text/plain": [
       "'\\nWrite a program which sums the integers from 1 to 10 using a for loop (and prints the total at the end).\\n'"
      ]
     },
     "execution_count": 1,
     "metadata": {},
     "output_type": "execute_result"
    }
   ],
   "source": [
    "\"\"\"\n",
    "Q1. Write a program which sums the integers from 1 to 10 using a for loop (and prints the total at the end).\n",
    "\"\"\""
   ]
  },
  {
   "cell_type": "code",
   "execution_count": 7,
   "metadata": {},
   "outputs": [
    {
     "name": "stdout",
     "output_type": "stream",
     "text": [
      "1\n",
      "2\n",
      "3\n",
      "4\n",
      "5\n",
      "6\n",
      "7\n",
      "8\n",
      "9\n",
      "10\n",
      "55\n"
     ]
    }
   ],
   "source": [
    "sum=0\n",
    "for i in range(1,11,1):\n",
    "#     print(i)\n",
    "    sum+=i\n",
    "print(sum)\n",
    "# print(10*10/2)"
   ]
  },
  {
   "cell_type": "code",
   "execution_count": 2,
   "metadata": {},
   "outputs": [
    {
     "data": {
      "text/plain": [
       "'\\n1. Can you think of a way to do this without using a loop?\\n2. Write a program which finds the factorial of a given number. E.g. 3 factorial, or 3! is equal to 3 x 2 x 1; 5! is\\nequal to 5 x 4 x 3 x 2 x 1, etc.. Your program should only contain a single loop.\\n3. Write a program which prompts the user for 10 floating point numbers and calculates their sum, product and\\naverage. Your program should only contain a single loop.\\n4. Rewrite the previous program so that it has two loops – one which collects and stores the numbers, and one\\nwhich processes them.\\n'"
      ]
     },
     "execution_count": 2,
     "metadata": {},
     "output_type": "execute_result"
    }
   ],
   "source": [
    "\"\"\"\n",
    "1. Can you think of a way to do this without using a loop?\n",
    "2. Write a program which finds the factorial of a given number. E.g. 3 factorial, or 3! is equal to 3 x 2 x 1; 5! is\n",
    "equal to 5 x 4 x 3 x 2 x 1, etc.. Your program should only contain a single loop.\n",
    "3. Write a program which prompts the user for 10 floating point numbers and calculates their sum, product and\n",
    "average. Your program should only contain a single loop.\n",
    "4. Rewrite the previous program so that it has two loops – one which collects and stores the numbers, and one\n",
    "which processes them.\n",
    "\"\"\""
   ]
  },
  {
   "cell_type": "code",
   "execution_count": 9,
   "metadata": {},
   "outputs": [
    {
     "name": "stdout",
     "output_type": "stream",
     "text": [
      "Enter positive number5\n",
      "1\n",
      "2\n",
      "3\n",
      "4\n",
      "5\n",
      "res 120\n"
     ]
    }
   ],
   "source": [
    "# n*n-1*n-2*n-3*n-4\n",
    "# 4*3*2*1 = 24\n",
    "n=int(input(\"Enter positive number\"))\n",
    "res=1\n",
    "for i in range(1,n+1):\n",
    "    res=res*i\n",
    "    print(i)\n",
    "print(\"res\",res)"
   ]
  }
 ],
 "metadata": {
  "kernelspec": {
   "display_name": "Python 3",
   "language": "python",
   "name": "python3"
  },
  "language_info": {
   "codemirror_mode": {
    "name": "ipython",
    "version": 3
   },
   "file_extension": ".py",
   "mimetype": "text/x-python",
   "name": "python",
   "nbconvert_exporter": "python",
   "pygments_lexer": "ipython3",
   "version": "3.8.5"
  }
 },
 "nbformat": 4,
 "nbformat_minor": 4
}
