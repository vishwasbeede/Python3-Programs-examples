{
 "cells": [
  {
   "cell_type": "code",
   "execution_count": 26,
   "metadata": {},
   "outputs": [
    {
     "name": "stdout",
     "output_type": "stream",
     "text": [
      "a\n",
      "<class 'str'>\n",
      "139908139166448\n",
      "139907823686128\n",
      "Lumen Technologies lts\n",
      "22\n",
      "LUMEN TECHNOLOGIES LTS\n",
      "lumen technologies lts\n",
      "Lumen Technologies Lts\n",
      "['Lumen Techno', 'ogies ', 'ts']\n"
     ]
    }
   ],
   "source": [
    "str_1 = \"a\"\n",
    "print(str_1)\n",
    "print(type(str_1))\n",
    "str_2=\"sdfghjkl\"\n",
    "print(id(str_1))\n",
    "print(id(str_2))\n",
    "str_name=\"Lumen Technologies lts\"\n",
    "print(str_name)\n",
    "print(len(str_name))\n",
    "print(str_name.upper())\n",
    "print(str_name.lower())\n",
    "print(str_name.title())\n",
    "# print(dir(str_name))\n",
    "print(str_name.split(\"l\"))"
   ]
  },
  {
   "cell_type": "code",
   "execution_count": 1,
   "metadata": {},
   "outputs": [
    {
     "name": "stdout",
     "output_type": "stream",
     "text": [
      "His age is \"30\" name is \"XYZ\" \n"
     ]
    }
   ],
   "source": [
    "age = \"30\"\n",
    "name = \"XYZ\"\n",
    "txt = \"His age is {2}{0}{2} name is {2}{1}{2} \".format(age, name, \"\\\"\")\n",
    "print(txt)"
   ]
  },
  {
   "cell_type": "code",
   "execution_count": 1,
   "metadata": {},
   "outputs": [
    {
     "data": {
      "text/plain": [
       "'\\n. Given variables x and y, use string formatting to print out the values of x and y and their sum. For example, if\\nx = 5 and y = 3 your statement should print 5 + 3 = 8.\\n'"
      ]
     },
     "execution_count": 1,
     "metadata": {},
     "output_type": "execute_result"
    }
   ],
   "source": [
    "\"\"\"\n",
    ". Given variables x and y, use string formatting to print out the values of x and y and their sum. For example, if\n",
    "x = 5 and y = 3 your statement should print\n",
    "5 + 3 = 8.\n",
    "\"\"\""
   ]
  },
  {
   "cell_type": "code",
   "execution_count": 2,
   "metadata": {},
   "outputs": [
    {
     "name": "stdout",
     "output_type": "stream",
     "text": [
      "5 + 3 = 8\n"
     ]
    }
   ],
   "source": [
    "x=5\n",
    "y=3\n",
    "result=\"5 + 3 = 8\"\n",
    "print(result)"
   ]
  },
  {
   "cell_type": "code",
   "execution_count": 4,
   "metadata": {},
   "outputs": [
    {
     "name": "stdout",
     "output_type": "stream",
     "text": [
      "5 + 3 = 8\n"
     ]
    }
   ],
   "source": [
    "x=5\n",
    "y=3\n",
    "result=f\"{x} + {y} = {x+y}\"\n",
    "print(result)"
   ]
  },
  {
   "cell_type": "code",
   "execution_count": 6,
   "metadata": {},
   "outputs": [
    {
     "name": "stdout",
     "output_type": "stream",
     "text": [
      "5 + 3 = 8\n"
     ]
    }
   ],
   "source": [
    "x=5\n",
    "y=3\n",
    "sum=x+y\n",
    "result=\"%d + %d = %d\"%(x,y,sum)\n",
    "print(result)"
   ]
  },
  {
   "cell_type": "code",
   "execution_count": 9,
   "metadata": {},
   "outputs": [
    {
     "name": "stdout",
     "output_type": "stream",
     "text": [
      "5 + 3 = 8\n"
     ]
    }
   ],
   "source": [
    "x=5\n",
    "y=3\n",
    "sum=x+y\n",
    "result=\"{0} + {1} = {2}\".format(x,y,sum)\n",
    "print(result)"
   ]
  },
  {
   "cell_type": "code",
   "execution_count": 13,
   "metadata": {},
   "outputs": [
    {
     "data": {
      "text/plain": [
       "'\\nUse escape sequences to write a string which represents the letters a, b and c separated by tabs.\\n'"
      ]
     },
     "execution_count": 13,
     "metadata": {},
     "output_type": "execute_result"
    }
   ],
   "source": [
    "\"\"\"\n",
    "Use escape sequences to write a string which represents the letters a, b and c separated by tabs.\n",
    "\"\"\""
   ]
  },
  {
   "cell_type": "code",
   "execution_count": 14,
   "metadata": {},
   "outputs": [
    {
     "name": "stdout",
     "output_type": "stream",
     "text": [
      "a\tb\tc\n"
     ]
    }
   ],
   "source": [
    "print(\"a\\tb\\tc\")"
   ]
  },
  {
   "cell_type": "code",
   "execution_count": 16,
   "metadata": {},
   "outputs": [
    {
     "data": {
      "text/plain": [
       "'\\n\\nWhat does the following sequence of statements output:\\nname = \"John Smythe\"\\nprint(name.lower())\\nprint(name)\\n\\n'"
      ]
     },
     "execution_count": 16,
     "metadata": {},
     "output_type": "execute_result"
    }
   ],
   "source": [
    "\"\"\"\n",
    "\n",
    "What does the following sequence of statements output:\n",
    "name = \"John Smythe\"\n",
    "print(name.lower())\n",
    "print(name)\n",
    "\n",
    "\"\"\""
   ]
  },
  {
   "cell_type": "code",
   "execution_count": null,
   "metadata": {},
   "outputs": [],
   "source": []
  }
 ],
 "metadata": {
  "kernelspec": {
   "display_name": "Python 3",
   "language": "python",
   "name": "python3"
  },
  "language_info": {
   "codemirror_mode": {
    "name": "ipython",
    "version": 3
   },
   "file_extension": ".py",
   "mimetype": "text/x-python",
   "name": "python",
   "nbconvert_exporter": "python",
   "pygments_lexer": "ipython3",
   "version": "3.8.5"
  }
 },
 "nbformat": 4,
 "nbformat_minor": 4
}
