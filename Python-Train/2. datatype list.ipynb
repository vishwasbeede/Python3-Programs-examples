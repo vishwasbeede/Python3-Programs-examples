{
 "cells": [
  {
   "cell_type": "code",
   "execution_count": 70,
   "metadata": {},
   "outputs": [
    {
     "name": "stdout",
     "output_type": "stream",
     "text": [
      "<class 'list'>\n",
      "[]\n",
      "[]\n",
      "['H', 'e', 'l', 'l', 'o', ' ', 'g', 'o', 'o', 'd', ' ', 'm', 'o', 'r', 'n', 'i', 'n', 'g']\n",
      "H**e**l**l**o** **g**o**o**d** **m**o**r**n**i**n**g\n",
      "18\n",
      "e\n",
      "H\n",
      "g\n",
      "4\n",
      "['__add__', '__class__', '__contains__', '__delattr__', '__delitem__', '__dir__', '__doc__', '__eq__', '__format__', '__ge__', '__getattribute__', '__getitem__', '__gt__', '__hash__', '__iadd__', '__imul__', '__init__', '__init_subclass__', '__iter__', '__le__', '__len__', '__lt__', '__mul__', '__ne__', '__new__', '__reduce__', '__reduce_ex__', '__repr__', '__reversed__', '__rmul__', '__setattr__', '__setitem__', '__sizeof__', '__str__', '__subclasshook__', 'append', 'clear', 'copy', 'count', 'extend', 'index', 'insert', 'pop', 'remove', 'reverse', 'sort']\n",
      "['H', 'e', 'l', 'l', ' ', 'g', 'o', 'o', 'd', ' ', 'm', 'o', 'r', 'n', 'i', 'n']\n",
      "['H', 'e', 'l', 'l', ' ', 'g', 'd', ' ', 'm', 'r', 'n', 'i', 'n']\n",
      "['H', 'l', 'l', ' ', 'g', 'd', ' ', 'm', 'r', 'n', 'n']\n",
      "['H', 'l', 'l', ' ', 'g', 'd', ' ', 'm', 'r', 'n', 'n', 'I']\n",
      "[]\n",
      "['L', 'i', 'n', 'u', 'x']\n",
      "4\n",
      "1\n",
      "['L', 'A', 'x', 'i', 'n', 'u', 'x']\n",
      "['L', 'B', 'x', 'i', 'n', 'u', 'x']\n",
      "['x', 'u', 'n', 'i', 'x', 'B', 'L']\n",
      "['B', 'L', 'i', 'n', 'u', 'x', 'x']\n",
      "['B', 'L', 'i', 'n', 'u', 'x', 'x', ['A', 'B', 'C', 'D']]\n",
      "['B', 'L', 'i', 'n', 'u', 'x', 'x', ['A', 'B', 'C', 'D']]\n"
     ]
    },
    {
     "data": {
      "text/plain": [
       "False"
      ]
     },
     "execution_count": 70,
     "metadata": {},
     "output_type": "execute_result"
    }
   ],
   "source": [
    "list_1=[]\n",
    "print(type(list_1))\n",
    "print(list_1)\n",
    "list_2=list(\"\")\n",
    "print(list_2)\n",
    "list_3=list(\"Hello good morning\")\n",
    "print(list_3)\n",
    "list2_str1=\"**\".join(list_3)\n",
    "print(list2_str1)\n",
    "# -----------------------\n",
    "print(len(list_3))\n",
    "print(list_3[1])\n",
    "print(list_3[0])\n",
    "print(list_3[len(list_3)-1])\n",
    "list_3.count(\"g\")\n",
    "print(list_3.count(\"o\"))\n",
    "print(dir(list_3))\n",
    "list_3.pop()\n",
    "list_3.remove(\"o\")\n",
    "print(list_3)\n",
    "# List comprehension\n",
    "list_3_filter = [ item for item in list_3 if item != \"o\"]\n",
    "print(list_3_filter)\n",
    "list_3_filter_vowels = [ item for item in list_3 if item not in \"aeiou\"]\n",
    "print(list_3_filter_vowels)\n",
    "list_3_filter_vowels.append(\"I\")\n",
    "print(list_3_filter_vowels)\n",
    "list_3_filter_vowels.clear()\n",
    "print(list_3_filter_vowels)\n",
    "list_3_filter_vowels_extend=[]\n",
    "list_3_filter_vowels_extend.extend(list(\"Linux\"))\n",
    "print(list_3_filter_vowels_extend)\n",
    "print(list_3_filter_vowels_extend.index(\"x\"))\n",
    "print(list_3_filter_vowels_extend.count(\"x\"))\n",
    "list_3_filter_vowels_extend.insert(1,\"x\")\n",
    "list_3_filter_vowels_extend.insert(1,\"A\")\n",
    "print(list_3_filter_vowels_extend)\n",
    "list_3_filter_vowels_extend[1]=\"B\"\n",
    "print(list_3_filter_vowels_extend)\n",
    "list_3_filter_vowels_extend.reverse()\n",
    "print(list_3_filter_vowels_extend)\n",
    "res_1=list_3_filter_vowels_extend.sort(reverse=False)\n",
    "print(list_3_filter_vowels_extend)\n",
    "# Nested list, list which contains another list inside itself\n",
    "list_3_filter_vowels_extend.append([\"A\",\"B\",\"C\",\"D\"])\n",
    "print(list_3_filter_vowels_extend)\n",
    "\n",
    "\n",
    "list_3_filter_vowels_extend+[\"a\",\"sd\"]\n",
    "print(list_3_filter_vowels_extend)\n",
    "list_3_filter_vowels_extend>[\"o\"]"
   ]
  },
  {
   "cell_type": "code",
   "execution_count": 1,
   "metadata": {},
   "outputs": [
    {
     "data": {
      "text/plain": [
       "'\\n1. Create a list a which contains the first three odd positive integers and a list b which contains the first three even\\npositive integers.\\n2. Create a new list c which combines the numbers from both lists (order is unimportant).\\n3. Create a new list d which is a sorted copy of c, leaving c unchanged.\\n4. Reverse d in-place.\\n5. Set the fourth element of c to 42.\\n6. Apend 10 to the end of d.\\n7. Append 7, 8 and 9 to the end of c.\\n8. Print the first three elements of c.\\n9. Print the last element of d without using its length.\\n10. Print the length of d.\\n'"
      ]
     },
     "execution_count": 1,
     "metadata": {},
     "output_type": "execute_result"
    }
   ],
   "source": [
    "\"\"\"\n",
    "1. Create a list a which contains the first three odd positive integers and a list b which contains the first three even\n",
    "positive integers.\n",
    "2. Create a new list c which combines the numbers from both lists (order is unimportant).\n",
    "3. Create a new list d which is a sorted copy of c, leaving c unchanged.\n",
    "4. Reverse d in-place.\n",
    "5. Set the fourth element of c to 42.\n",
    "6. Apend 10 to the end of d.\n",
    "7. Append 7, 8 and 9 to the end of c.\n",
    "8. Print the first three elements of c.\n",
    "9. Print the last element of d without using its length.\n",
    "10. Print the length of d.\n",
    "\"\"\""
   ]
  }
 ],
 "metadata": {
  "kernelspec": {
   "display_name": "Python 3",
   "language": "python",
   "name": "python3"
  },
  "language_info": {
   "codemirror_mode": {
    "name": "ipython",
    "version": 3
   },
   "file_extension": ".py",
   "mimetype": "text/x-python",
   "name": "python",
   "nbconvert_exporter": "python",
   "pygments_lexer": "ipython3",
   "version": "3.8.5"
  }
 },
 "nbformat": 4,
 "nbformat_minor": 4
}
