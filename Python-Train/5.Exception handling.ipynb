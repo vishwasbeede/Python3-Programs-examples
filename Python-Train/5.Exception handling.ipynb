{
 "cells": [
  {
   "cell_type": "code",
   "execution_count": 2,
   "metadata": {},
   "outputs": [],
   "source": [
    "# Errors in programminf=g\n",
    "# Syntax error\n",
    "\"\"\"\n",
    "• leaving out a keyword\n",
    "• putting a keyword in the wrong place\n",
    "• leaving out a symbol, such as a colon, comma or brackets\n",
    "• misspelling a keyword\n",
    "• incorrect indentation\n",
    "\"\"\"\n",
    "# Runtime error\n",
    "\"\"\"\n",
    "• division by zero\n",
    "• performing an operation on incompatible types\n",
    "• using an identifier which has not been defined\n",
    "• accessing a list element, dictionary value or object attribute which doesn’t exist\n",
    "• trying to access a file which doesn’t exist\n",
    "\"\"\"\n",
    "# Logical error\n",
    "\"\"\"\n",
    "• using the wrong variable name\n",
    "• indenting a block to the wrong level\n",
    "• using integer division instead of floating point division\n",
    "\"\"\"\n"
   ]
  },
  {
   "cell_type": "code",
   "execution_count": null,
   "metadata": {},
   "outputs": [],
   "source": []
  },
  {
   "cell_type": "code",
   "execution_count": null,
   "metadata": {},
   "outputs": [],
   "source": []
  },
  {
   "cell_type": "code",
   "execution_count": null,
   "metadata": {},
   "outputs": [],
   "source": []
  },
  {
   "cell_type": "code",
   "execution_count": 4,
   "metadata": {},
   "outputs": [
    {
     "name": "stdout",
     "output_type": "stream",
     "text": [
      "Please enter your age: ad\n",
      "invalid literal for int() with base 10: 'ad'\n"
     ]
    }
   ],
   "source": [
    "try:\n",
    "    age = int(input(\"Please enter your age: \"))\n",
    "except ValueError as err:\n",
    "    print(err)"
   ]
  },
  {
   "cell_type": "code",
   "execution_count": 3,
   "metadata": {},
   "outputs": [
    {
     "name": "stdout",
     "output_type": "stream",
     "text": [
      "Please enter your age: sd\n",
      "Hey, that wasn't a number!\n",
      "It was really nice talking to you.  Goodbye!\n"
     ]
    }
   ],
   "source": [
    "try:\n",
    "    age = int(input(\"Please enter your age: \"))\n",
    "except ValueError:\n",
    "    print(\"Hey, that wasn't a number!\")\n",
    "else:\n",
    "    print(\"You are %d years old.\" % age)\n",
    "finally:\n",
    "    print(\"It was really nice talking to you.  Goodbye!\")"
   ]
  },
  {
   "cell_type": "code",
   "execution_count": 4,
   "metadata": {},
   "outputs": [
    {
     "name": "stdout",
     "output_type": "stream",
     "text": [
      "Please enter your age: -123\n",
      "You entered incorrect age input: -123 is not a valid age. Age must be positive or zero.\n"
     ]
    }
   ],
   "source": [
    "try:\n",
    "    age = int(input(\"Please enter your age: \"))\n",
    "    if age < 0:\n",
    "        raise ValueError(f\"{age} is not a valid age. Age must be positive or zero.\")\n",
    "except ValueError as err:\n",
    "    print(\"You entered incorrect age input: %s\" % err)\n",
    "else:\n",
    "    print(\"I see that you are %d years old.\" % age)"
   ]
  },
  {
   "cell_type": "code",
   "execution_count": 5,
   "metadata": {},
   "outputs": [
    {
     "data": {
      "text/plain": [
       "-123"
      ]
     },
     "execution_count": 5,
     "metadata": {},
     "output_type": "execute_result"
    }
   ],
   "source": [
    "age"
   ]
  }
 ],
 "metadata": {
  "kernelspec": {
   "display_name": "Python 3",
   "language": "python",
   "name": "python3"
  },
  "language_info": {
   "codemirror_mode": {
    "name": "ipython",
    "version": 3
   },
   "file_extension": ".py",
   "mimetype": "text/x-python",
   "name": "python",
   "nbconvert_exporter": "python",
   "pygments_lexer": "ipython3",
   "version": "3.8.5"
  }
 },
 "nbformat": 4,
 "nbformat_minor": 4
}
