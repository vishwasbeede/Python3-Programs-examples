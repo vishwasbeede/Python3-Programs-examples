{
 "cells": [
  {
   "cell_type": "code",
   "execution_count": 21,
   "metadata": {},
   "outputs": [
    {
     "name": "stdout",
     "output_type": "stream",
     "text": [
      "4\n",
      "12.175389110825165\n",
      "<class 'complex'>\n"
     ]
    }
   ],
   "source": [
    "# datatype numbers represents numeric values\n",
    "num1=12.01+2j\n",
    "num2=52\n",
    "num3=13\n",
    "print(num2//num3)\n",
    "\n",
    "print(abs(num1))\n",
    "print(type(num1))"
   ]
  },
  {
   "cell_type": "code",
   "execution_count": 3,
   "metadata": {},
   "outputs": [
    {
     "data": {
      "text/plain": [
       "'\\n1. Which of the following numbers are valid Python integers? \\n110 1.0, 17.5, -39, -2.3\\n2. What are the results of the following operations and explain why: #. 15 + 20 * 3 #. 13 // 2 + 3 #. 31\\n+ 10 // 3 #. 20 % 7 // 3 #. 2 ** 3 ** 2\\n3. What happens when you evaluate 1 // 0 in the Python console? Why does this happen?\\n'"
      ]
     },
     "execution_count": 3,
     "metadata": {},
     "output_type": "execute_result"
    }
   ],
   "source": [
    "\"\"\"\n",
    "1. Which of the following numbers are valid Python integers? \n",
    "110\n",
    "1.0\n",
    "17.5\n",
    "-39\n",
    "-2.3\n",
    "2. What are the results of the following operations and explain why: \n",
    "#. 15 + 20 * 3 \n",
    "#. 13 // 2 + 3\n",
    "#. 31 + 10 // 3 \n",
    "#. 20 % 7 // 3 \n",
    "#. 2 ** 3 ** 2\n",
    "3. What happens when you evaluate 1 // 0 in the Python console? Why does this happen?\n",
    "\"\"\"\n"
   ]
  },
  {
   "cell_type": "code",
   "execution_count": 9,
   "metadata": {},
   "outputs": [
    {
     "data": {
      "text/plain": [
       "'\\n1. Which of the following are Python floating-point numbers? \\n1, 1.0, 1.12e4, -3.141759, 735,0.57721566, 7.5e-3\\n\\n2.  What is the difference between integer and floating point division? \\n    What is the operator used for integer division?\\n    What is the operator used for floating point division?\\n    \\n3. What are the results of the following operations?\\n    Explain why: \\n    #. 1.5 + 2\\n    #. 1.5 // 2.0\\n    #. 1.5 / 2.0\\n    #. 1.5 ** 2 \\n    #. 1 / 2 \\n    #. -3 // 2\\n4. What happens when you evaluate 1 / 0 in the Python console?\\n5. What happens when you evaluate 1e1000? What about -1e1000? \\n    And type(1e1000)?\\n'"
      ]
     },
     "execution_count": 9,
     "metadata": {},
     "output_type": "execute_result"
    }
   ],
   "source": [
    "\"\"\"\n",
    "1. Which of the following are Python floating-point numbers? \n",
    "1, 1.0, 1.12e4, -3.141759, 735,0.57721566, 7.5e-3\n",
    "\n",
    "2.  What is the difference between integer and floating point division? \n",
    "    What is the operator used for integer division?\n",
    "    What is the operator used for floating point division?\n",
    "    \n",
    "3. What are the results of the following operations?\n",
    "    Explain why: \n",
    "    #. 1.5 + 2\n",
    "    #. 1.5 // 2.0\n",
    "    #. 1.5 / 2.0\n",
    "    #. 1.5 ** 2 \n",
    "    #. 1 / 2 \n",
    "    #. -3 // 2\n",
    "4. What happens when you evaluate 1 / 0 in the Python console?\n",
    "\n",
    "5. What happens when you evaluate 1e1000? What about -1e1000? \n",
    "    And type(1e1000)?\n",
    "\"\"\""
   ]
  },
  {
   "cell_type": "code",
   "execution_count": 18,
   "metadata": {},
   "outputs": [
    {
     "data": {
      "text/plain": [
       "(4+243j)"
      ]
     },
     "execution_count": 18,
     "metadata": {},
     "output_type": "execute_result"
    }
   ],
   "source": [
    "# Complex number exponentional\n",
    "4+3j ** 5"
   ]
  }
 ],
 "metadata": {
  "kernelspec": {
   "display_name": "Python 3",
   "language": "python",
   "name": "python3"
  },
  "language_info": {
   "codemirror_mode": {
    "name": "ipython",
    "version": 3
   },
   "file_extension": ".py",
   "mimetype": "text/x-python",
   "name": "python",
   "nbconvert_exporter": "python",
   "pygments_lexer": "ipython3",
   "version": "3.8.5"
  }
 },
 "nbformat": 4,
 "nbformat_minor": 4
}
