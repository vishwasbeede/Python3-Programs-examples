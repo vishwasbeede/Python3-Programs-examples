{
 "cells": [
  {
   "cell_type": "code",
   "execution_count": 42,
   "metadata": {},
   "outputs": [
    {
     "name": "stdout",
     "output_type": "stream",
     "text": [
      "<class 'tuple'>\n",
      "<class 'tuple'>\n",
      "(1, 2, 3, 4, 5)\n",
      "['__add__', '__class__', '__contains__', '__delattr__', '__dir__', '__doc__', '__eq__', '__format__', '__ge__', '__getattribute__', '__getitem__', '__getnewargs__', '__gt__', '__hash__', '__init__', '__init_subclass__', '__iter__', '__le__', '__len__', '__lt__', '__mul__', '__ne__', '__new__', '__reduce__', '__reduce_ex__', '__repr__', '__rmul__', '__setattr__', '__sizeof__', '__str__', '__subclasshook__', 'count', 'index']\n"
     ]
    }
   ],
   "source": [
    "# ordered immutable sequnce \n",
    "\n",
    "tuple_1=(1,2,3,4,5)\n",
    "\n",
    "t1=()\n",
    "print(type(t1))\n",
    "\n",
    "t2=tuple()\n",
    "print(type(t2))\n",
    "\n",
    "print(tuple_1)\n",
    "print(dir(tuple_1))"
   ]
  },
  {
   "cell_type": "code",
   "execution_count": 39,
   "metadata": {},
   "outputs": [
    {
     "name": "stdout",
     "output_type": "stream",
     "text": [
      "['__add__', '__class__', '__contains__', '__delattr__', '__dir__', '__doc__', '__eq__', '__format__', '__ge__', '__getattribute__', '__getitem__', '__getnewargs__', '__gt__', '__hash__', '__init__', '__init_subclass__', '__iter__', '__le__', '__len__', '__lt__', '__mul__', '__ne__', '__new__', '__reduce__', '__reduce_ex__', '__repr__', '__rmul__', '__setattr__', '__sizeof__', '__str__', '__subclasshook__', 'count', 'index']\n",
      "Tuple1 (1, 2, 3, 4, 5)\n",
      "tuple2 (1, 2, 3, 4, 5, 1, 2, 3, 4, 5)\n",
      "Tuple3 (1, 2, 3, 4, 5, 1, 2, 3, 4, 5, 1, 2, 3, 4, 5, 1, 2, 3, 4, 5, 1, 2, 3, 4, 5, 1, 2, 3, 4, 5, 1, 2, 3, 4, 5, 1, 2, 3, 4, 5, 1, 2, 3, 4, 5, 1, 2, 3, 4, 5)\n",
      "------------------------------\n",
      "(1, 2, 3, 4, 5, 1, 2, 3, 4, 5, 1, 2, 3, 4, 5, 1, 2, 3, 4, 5, 1, 2, 3, 4, 5, 1, 2, 3, 4, 5, 1, 2, 3, 4, 5, 1, 2, 3, 4, 5, 1, 2, 3, 4, 5, 1, 2, 3, 4, 5)\n",
      "[1, 23, 3, 4, 5]\n",
      "2\n",
      "(2, 3)\n",
      "(1, 2, 3, 4, 5)\n",
      "(3, 4)\n",
      "(5, 4, 3, 2, 1)\n",
      "(5, 3, 1)\n"
     ]
    }
   ],
   "source": [
    "tuple_1=(1,2,3,4,5)\n",
    "print(dir(tuple_1))\n",
    "# tuple_1=(1,2,3,4,5)\n",
    "# Methods\n",
    "tuple_1.count(3)\n",
    "tuple_1.index(3)\n",
    "\n",
    "\n",
    "print(\"Tuple1\",tuple_1)\n",
    "tuple2=tuple_1+tuple_1\n",
    "print(\"tuple2\",tuple2)\n",
    "tuple3=tuple2*5\n",
    "print(\"Tuple3\",tuple3)\n",
    "print('--'*15)\n",
    "print(repr(tuple3))\n",
    "\n",
    "tuple_list_1=list(tuple_1)\n",
    "tuple_list_1[1]=23\n",
    "print(tuple_list_1)\n",
    "\n",
    "# tuple_1 < tuple3\n",
    "print(tuple_1[1])\n",
    "\n",
    "print(tuple_1[1:3])\n",
    "print(tuple_1[:])\n",
    "print(tuple_1[2:-1])\n",
    "print(tuple_1[::-1])\n",
    "print(tuple_1[::-2])\n",
    "# [start:end:step] Negative index available\n"
   ]
  },
  {
   "cell_type": "code",
   "execution_count": 1,
   "metadata": {},
   "outputs": [
    {
     "data": {
      "text/plain": [
       "'\\n1. Create a tuple a which contains the first four positive integers and a tuple b which contains the next four positive\\nintegers.\\n2. Create a tuple c which combines all the numbers from a and b in any order.\\n3. Create a tuple d which is a sorted copy of c.\\n4. Print the third element of d.\\n5. Print the last three elements of d without using its length.\\n6. Print the length of d.\\n'"
      ]
     },
     "execution_count": 1,
     "metadata": {},
     "output_type": "execute_result"
    }
   ],
   "source": [
    "\"\"\"\n",
    "Q1.\n",
    "1. Create a tuple a which contains the first four positive integers and a tuple b which contains the next four positive\n",
    "integers.\n",
    "2. Create a tuple c which combines all the numbers from a and b in any order.\n",
    "3. Create a tuple d which is a sorted copy of c.\n",
    "4. Print the third element of d.\n",
    "5. Print the last three elements of d without using its length.\n",
    "6. Print the length of d.\n",
    "\"\"\""
   ]
  },
  {
   "cell_type": "code",
   "execution_count": 2,
   "metadata": {},
   "outputs": [
    {
     "data": {
      "text/plain": [
       "'\\n1. Create a list a which contains three tuples. The first tuple should contain a single element, the second two\\nelements and the third three elements.\\n2. Print the second element of the second element of a.\\n3. Create a list b which contains four lists, each of which contains four elements.\\n4. Print the last two elements of the first element of b.\\n'"
      ]
     },
     "execution_count": 2,
     "metadata": {},
     "output_type": "execute_result"
    }
   ],
   "source": [
    "\"\"\"\n",
    "1. Create a list a which contains three tuples. The first tuple should contain a single element, the second two\n",
    "elements and the third three elements.\n",
    "2. Print the second element of the second element of a.\n",
    "3. Create a list b which contains four lists, each of which contains four elements.\n",
    "4. Print the last two elements of the first element of b.\n",
    "\"\"\""
   ]
  }
 ],
 "metadata": {
  "kernelspec": {
   "display_name": "Python 3",
   "language": "python",
   "name": "python3"
  },
  "language_info": {
   "codemirror_mode": {
    "name": "ipython",
    "version": 3
   },
   "file_extension": ".py",
   "mimetype": "text/x-python",
   "name": "python",
   "nbconvert_exporter": "python",
   "pygments_lexer": "ipython3",
   "version": "3.8.5"
  }
 },
 "nbformat": 4,
 "nbformat_minor": 4
}
