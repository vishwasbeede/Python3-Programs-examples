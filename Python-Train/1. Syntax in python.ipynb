{
 "cells": [
  {
   "cell_type": "code",
   "execution_count": 1,
   "metadata": {},
   "outputs": [],
   "source": [
    "# Python syntax\n",
    "# Set of rules followed in python prgramming, they are reffred as syntax\n",
    "# Normal languaages punctuations needed\n"
   ]
  },
  {
   "cell_type": "code",
   "execution_count": 1,
   "metadata": {},
   "outputs": [
    {
     "ename": "SyntaxError",
     "evalue": "Missing parentheses in call to 'print'. Did you mean print(\"sdfsd\")? (<ipython-input-1-72d021466c9d>, line 1)",
     "output_type": "error",
     "traceback": [
      "\u001b[0;36m  Input \u001b[0;32mIn [1]\u001b[0;36m\u001b[0m\n\u001b[0;31m    print \"sdfsd\"\u001b[0m\n\u001b[0m          ^\u001b[0m\n\u001b[0;31mSyntaxError\u001b[0m\u001b[0;31m:\u001b[0m Missing parentheses in call to 'print'. Did you mean print(\"sdfsd\")?\n"
     ]
    }
   ],
   "source": [
    "print \"sdfsd\""
   ]
  },
  {
   "cell_type": "code",
   "execution_count": 2,
   "metadata": {},
   "outputs": [
    {
     "ename": "SyntaxError",
     "evalue": "Missing parentheses in call to 'print'. Did you mean print(a)? (<ipython-input-2-75206252546c>, line 6)",
     "output_type": "error",
     "traceback": [
      "\u001b[0;36m  Input \u001b[0;32mIn [2]\u001b[0;36m\u001b[0m\n\u001b[0;31m    print a\u001b[0m\n\u001b[0m          ^\u001b[0m\n\u001b[0;31mSyntaxError\u001b[0m\u001b[0;31m:\u001b[0m Missing parentheses in call to 'print'. Did you mean print(a)?\n"
     ]
    }
   ],
   "source": [
    "# print statements should be enclosed within paranthesis\n",
    "print(\"Welcome to python programming\")\n",
    "\n",
    "a=121221\n",
    "\n",
    "print a\n"
   ]
  },
  {
   "cell_type": "code",
   "execution_count": 5,
   "metadata": {},
   "outputs": [
    {
     "name": "stdout",
     "output_type": "stream",
     "text": [
      "used indentation for block\n",
      "used indentation for block\n",
      "used indentation for block\n"
     ]
    }
   ],
   "source": [
    "# Indentation blocks\n",
    "# in python spaces or tabs is used to indent the blocks\n",
    "# 2 spaces or 4 spaces\n",
    "# in othe programming code blocks enclosed withinn curly braces\n",
    "# {}\n",
    "# if (a==10){\n",
    "# console.log(\"sdjkkjsdfhdf\")\n",
    "# }\n",
    "\n",
    "# in python for conditional statements\n",
    "a=10\n",
    "if a==10:\n",
    "    print(\"used indentation for block\")\n",
    "    print(\"used indentation for block\")\n",
    "    print(\"used indentation for block\")\n"
   ]
  },
  {
   "cell_type": "code",
   "execution_count": 18,
   "metadata": {},
   "outputs": [
    {
     "name": "stdout",
     "output_type": "stream",
     "text": [
      "Hello\n",
      "Hello2\n",
      "Hello3\n"
     ]
    }
   ],
   "source": [
    "if a!=23:\n",
    "    print(\"Hello\");print(\"Hello2\");print(\"Hello3\");"
   ]
  },
  {
   "cell_type": "code",
   "execution_count": 10,
   "metadata": {},
   "outputs": [
    {
     "name": "stdout",
     "output_type": "stream",
     "text": [
      "Hello\n"
     ]
    }
   ],
   "source": [
    "def function_definition():\n",
    "    print(\"Hello\")\n",
    "    \n",
    "function_definition()"
   ]
  },
  {
   "cell_type": "code",
   "execution_count": 12,
   "metadata": {
    "scrolled": true
   },
   "outputs": [
    {
     "ename": "SyntaxError",
     "evalue": "invalid syntax (<ipython-input-12-1e7f16e1f248>, line 1)",
     "output_type": "error",
     "traceback": [
      "\u001b[0;36m  Input \u001b[0;32mIn [12]\u001b[0;36m\u001b[0m\n\u001b[0;31m    def=12\u001b[0m\n\u001b[0m       ^\u001b[0m\n\u001b[0;31mSyntaxError\u001b[0m\u001b[0;31m:\u001b[0m invalid syntax\n"
     ]
    }
   ],
   "source": [
    "def=12\n",
    "print(def)\n",
    "# def is reserved keyword when used as variable this results syntax error\n",
    "# idenetifier should not starts with number\n",
    "var=23"
   ]
  },
  {
   "cell_type": "code",
   "execution_count": 15,
   "metadata": {},
   "outputs": [
    {
     "ename": "SyntaxError",
     "evalue": "invalid syntax (<ipython-input-15-27d726727436>, line 2)",
     "output_type": "error",
     "traceback": [
      "\u001b[0;36m  Input \u001b[0;32mIn [15]\u001b[0;36m\u001b[0m\n\u001b[0;31m    in = 23\u001b[0m\n\u001b[0m    ^\u001b[0m\n\u001b[0;31mSyntaxError\u001b[0m\u001b[0;31m:\u001b[0m invalid syntax\n"
     ]
    }
   ],
   "source": [
    "# def = 12\n",
    "in = 23\n",
    "# try:\n",
    "#     def function_definition():\n",
    "#         print(\"Hello\")\n",
    "#         print(\"Hello\")\n",
    "#     print(\"Hello\")\n",
    "#         function_definition()\n",
    "# except:\n",
    "#     print(\"e\")"
   ]
  },
  {
   "cell_type": "code",
   "execution_count": 42,
   "metadata": {},
   "outputs": [
    {
     "data": {
      "text/plain": [
       "'\\nWrite down the two statements inside the block created by the append_chickens function:\\n\\nno_chickens = \"No chickens here ...\"\\n\\ndef append_chickens(text):\\ntext = text + \" Rawwwk!\"\\nreturn text\\nprint(append_chickens(no_chickens))\\n\\n'"
      ]
     },
     "execution_count": 42,
     "metadata": {},
     "output_type": "execute_result"
    }
   ],
   "source": [
    "\"\"\"\n",
    "Q1.\n",
    "Write down the two statements inside the block created by the append_chickens function:\n",
    "\n",
    "no_chickens = \"No chickens here ...\"\n",
    "\n",
    "def append_chickens(text):\n",
    "text = text + \" Rawwwk!\"\n",
    "return text\n",
    "print(append_chickens(no_chickens))\n",
    "\n",
    "\"\"\""
   ]
  },
  {
   "cell_type": "code",
   "execution_count": null,
   "metadata": {},
   "outputs": [],
   "source": []
  },
  {
   "cell_type": "code",
   "execution_count": 44,
   "metadata": {},
   "outputs": [
    {
     "name": "stdout",
     "output_type": "stream",
     "text": [
      "Hello1\n",
      "Hello2\n",
      "No chickens here ... Rawwwk!\n"
     ]
    }
   ],
   "source": [
    "no_chickens = \"No chickens here ...\"\n",
    "\n",
    "def append_chickens(text):\n",
    "    text = text + \" Rawwwk!\"\n",
    "#     print()\n",
    "    print(\"Hello1\")\n",
    "    print(\"Hello2\")\n",
    "    return text\n",
    "print(append_chickens(no_chickens))"
   ]
  },
  {
   "cell_type": "code",
   "execution_count": 45,
   "metadata": {},
   "outputs": [
    {
     "ename": "SyntaxError",
     "evalue": "invalid syntax (<ipython-input-45-f48b3ac5e75a>, line 2)",
     "output_type": "error",
     "traceback": [
      "\u001b[0;36m  Input \u001b[0;32mIn [45]\u001b[0;36m\u001b[0m\n\u001b[0;31m    The following Python program is not indented correctly. Re-write it so that it is correctly indented:\u001b[0m\n\u001b[0m        ^\u001b[0m\n\u001b[0;31mSyntaxError\u001b[0m\u001b[0;31m:\u001b[0m invalid syntax\n"
     ]
    }
   ],
   "source": [
    "\"\"\"\n",
    "Q2.\n",
    "The following Python program is not indented correctly. Re-write it so that it is correctly indented:\n",
    "def happy_day(day):\n",
    "if day == \"monday\":\n",
    "return \":(\"\n",
    "if day != \"monday\":\n",
    "return \":D\"\n",
    "print(happy_day(\"sunday\"))\n",
    "print(happy_day(\"monday\"))\n",
    "\"\"\""
   ]
  },
  {
   "cell_type": "code",
   "execution_count": null,
   "metadata": {},
   "outputs": [],
   "source": [
    "data1=\"Data1\"\n"
   ]
  }
 ],
 "metadata": {
  "kernelspec": {
   "display_name": "Python 3",
   "language": "python",
   "name": "python3"
  },
  "language_info": {
   "codemirror_mode": {
    "name": "ipython",
    "version": 3
   },
   "file_extension": ".py",
   "mimetype": "text/x-python",
   "name": "python",
   "nbconvert_exporter": "python",
   "pygments_lexer": "ipython3",
   "version": "3.8.5"
  }
 },
 "nbformat": 4,
 "nbformat_minor": 4
}
