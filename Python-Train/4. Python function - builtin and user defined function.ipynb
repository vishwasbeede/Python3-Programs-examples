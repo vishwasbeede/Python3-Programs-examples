{
 "cells": [
  {
   "cell_type": "code",
   "execution_count": 100,
   "metadata": {},
   "outputs": [
    {
     "ename": "TypeError",
     "evalue": "argument of type 'builtin_function_or_method' is not iterable",
     "output_type": "error",
     "traceback": [
      "\u001b[0;31m---------------------------------------------------------------------------\u001b[0m",
      "\u001b[0;31mTypeError\u001b[0m                                 Traceback (most recent call last)",
      "Input \u001b[0;32mIn [100]\u001b[0m, in \u001b[0;36m<cell line: 2>\u001b[0;34m()\u001b[0m\n\u001b[1;32m      1\u001b[0m \u001b[38;5;28;01mimport\u001b[39;00m \u001b[38;5;21;01mbuiltins\u001b[39;00m\n\u001b[0;32m----> 2\u001b[0m \u001b[38;5;28;01mwith\u001b[39;00m \u001b[38;5;28;43mopen\u001b[39;49m\u001b[43m \u001b[49m\u001b[38;5;129;43;01min\u001b[39;49;00m\u001b[43m \u001b[49m\u001b[43mbuiltins\u001b[49m\u001b[38;5;241;43m.\u001b[39;49m\u001b[43mopen\u001b[49m:\n\u001b[1;32m      3\u001b[0m     \u001b[38;5;28mprint\u001b[39m\n\u001b[1;32m      4\u001b[0m \u001b[38;5;66;03m# https://docs.python.org/3/library/functions.html#built-in-funcs\u001b[39;00m\n",
      "\u001b[0;31mTypeError\u001b[0m: argument of type 'builtin_function_or_method' is not iterable"
     ]
    }
   ],
   "source": [
    "import builtins\n",
    "with open in builtins.open:\n",
    "    print\n",
    "# https://docs.python.org/3/library/functions.html#built-in-funcs\n",
    "print(vars)"
   ]
  },
  {
   "cell_type": "code",
   "execution_count": 94,
   "metadata": {},
   "outputs": [
    {
     "name": "stdout",
     "output_type": "stream",
     "text": [
      "<class 'builtin_function_or_method'>\n",
      "<class 'builtin_function_or_method'>\n",
      "type(type) <class 'type'>\n",
      "<class 'module'>\n",
      "4\n",
      "12\n"
     ]
    }
   ],
   "source": [
    "import datetime\n",
    "print(type(dir))\n",
    "print(type(len))\n",
    "print(\"type(type)\",type(type))\n",
    "print(type(datetime))\n",
    "\n",
    "print(len([1,23,45,56]))\n",
    "print(len(range(0,23,2)))"
   ]
  },
  {
   "cell_type": "code",
   "execution_count": 95,
   "metadata": {},
   "outputs": [
    {
     "name": "stdout",
     "output_type": "stream",
     "text": [
      "['is31001', 'is31002', 'an31023', 'ev32309', 'ev31208', 'ev30903']\n"
     ]
    }
   ],
   "source": [
    "# Example using function to create user_id, function definition and call the function multiple times\n",
    "list_of_users=[]\n",
    "\n",
    "def generate_userid(username,joining_date):\n",
    "    user_id = username[1:3].lower()+joining_date[7:]\n",
    "    if list_of_users.count(user_id) <= 0:\n",
    "        list_of_users.append(user_id)\n",
    "    else:\n",
    "        user_id = username[2:4].lower()+joining_date[7:]\n",
    "        if list_of_users.count(user_id) <= 0:\n",
    "            list_of_users.append(user_id)\n",
    "        else:\n",
    "            user_id = username[3:5].lower()+joining_date[7:]\n",
    "            list_of_users.append(user_id)\n",
    "\n",
    "\n",
    "generate_userid(\"vishwas\",\"060520231001\")\n",
    "generate_userid(\"vishwas\",\"060520231002\")\n",
    "generate_userid(\"sankenth\",\"060520231023\")\n",
    "generate_userid(\"Devendra\",\"060520232309\")\n",
    "generate_userid(\"Devendra\",\"060520231208\")\n",
    "generate_userid(\"Devendra\",\"060520230903\")\n",
    "print(list_of_users)\n"
   ]
  },
  {
   "cell_type": "code",
   "execution_count": 87,
   "metadata": {},
   "outputs": [
    {
     "name": "stdout",
     "output_type": "stream",
     "text": [
      "['is31001', 'is31002', 'an31023', 'ev32309', 'ev31208', 'ev30903', 'an30908', 'up30807']\n"
     ]
    }
   ],
   "source": [
    "# Example using function to create user_id, function definition and call the function multiple times\n",
    "list_of_users=[]\n",
    "\n",
    "def generate_userid(username=\"\",joining_date=\"\"):\n",
    "    if username != \"\" and joining_date != \"\":\n",
    "        user_id = username[1:3].lower()+joining_date[7:]\n",
    "        if list_of_users.count(user_id) <= 0:\n",
    "            list_of_users.append(user_id)\n",
    "        else:\n",
    "            user_id = username[2:4].lower()+joining_date[7:]\n",
    "            if list_of_users.count(user_id) <= 0:\n",
    "                list_of_users.append(user_id)\n",
    "            else:\n",
    "                user_id = username[3:5].lower()+joining_date[7:]\n",
    "                list_of_users.append(user_id)\n",
    "\n",
    "\n",
    "generate_userid(\"vishwas\",\"060520231001\")\n",
    "generate_userid(\"vishwas\",\"060520231002\")\n",
    "generate_userid(\"sankenth\",\"060520231023\")\n",
    "generate_userid(\"Devendra\",\"060520232309\")\n",
    "generate_userid(\"Devendra\",\"060520231208\")\n",
    "generate_userid(\"Devendra\",\"060520230903\")\n",
    "generate_userid()\n",
    "generate_userid(joining_date=\"060720230908\",username=\"Ganesh\")\n",
    "generate_userid(joining_date=\"060720230807\",username=\"Supreeth\")\n",
    "print(list_of_users)\n"
   ]
  },
  {
   "cell_type": "code",
   "execution_count": 86,
   "metadata": {},
   "outputs": [
    {
     "name": "stdout",
     "output_type": "stream",
     "text": [
      "['is31001', 'is31002', 'an31023', 'ev32309', 'ev31208', 'ev30903']\n"
     ]
    }
   ],
   "source": [
    "# Example using function to create user_id, function definition and call the function multiple times\n",
    "# list of arguments\n",
    "\n",
    "list_of_users=[]\n",
    "\n",
    "def generate_userid(*username):\n",
    "    if len(username) == 2:\n",
    "        user_id = username[0][1:3].lower()+username[1][7:]\n",
    "        if list_of_users.count(user_id) <= 0:\n",
    "            list_of_users.append(user_id)\n",
    "        else:\n",
    "            user_id = username[0][2:4].lower()+username[1][7:]\n",
    "            if list_of_users.count(user_id) <= 0:\n",
    "                list_of_users.append(user_id)\n",
    "            else:\n",
    "                user_id = username[0][3:5].lower()+username[1][7:]\n",
    "                list_of_users.append(user_id)\n",
    "\n",
    "\n",
    "generate_userid(\"vishwas\",\"060520231001\")\n",
    "generate_userid(\"vishwas\",\"060520231002\")\n",
    "generate_userid(\"sankenth\",\"060520231023\")\n",
    "generate_userid(\"Devendra\",\"060520232309\")\n",
    "generate_userid(\"Devendra\",\"060520231208\")\n",
    "generate_userid(\"Devendra\",\"060520230903\")\n",
    "generate_userid()\n",
    "print(list_of_users)\n"
   ]
  },
  {
   "cell_type": "code",
   "execution_count": 85,
   "metadata": {},
   "outputs": [
    {
     "name": "stdout",
     "output_type": "stream",
     "text": [
      "['is31001', 'is31002', 'an31023']\n"
     ]
    }
   ],
   "source": [
    "# Example using function to create user_id, function definition and call the function multiple times\n",
    "# list of arguments\n",
    "\n",
    "list_of_users=[]\n",
    "\n",
    "def generate_userid(**username):\n",
    "#     print(username.keys())\n",
    "#     print(username.values())\n",
    "    if len(username.keys()) == 1:\n",
    "        user_id = username[\"username\"][\"name\"][1:3].lower()+username[\"username\"][\"id\"][7:]\n",
    "        if list_of_users.count(user_id) <= 0:\n",
    "            list_of_users.append(user_id)\n",
    "        else:\n",
    "            user_id = username[\"username\"][\"name\"][2:4].lower()+username[\"username\"][\"id\"][7:]\n",
    "            if list_of_users.count(user_id) <= 0:\n",
    "                list_of_users.append(user_id)\n",
    "            else:\n",
    "                user_id = username[\"username\"][\"name\"][3:5].lower()+username[\"username\"][\"id\"][7:]\n",
    "                list_of_users.append(user_id)\n",
    "\n",
    "generate_userid(username={\"name\":\"vishwas \",\"id\":\"060520231001\"})\n",
    "generate_userid(username={\"name\":\"vishwas \",\"id\":\"060520231002\"})\n",
    "generate_userid(username={\"name\":\"sankenth\",\"id\":\"060520231023\"})\n",
    "\n",
    "print(list_of_users)\n"
   ]
  },
  {
   "cell_type": "code",
   "execution_count": 78,
   "metadata": {},
   "outputs": [
    {
     "name": "stdout",
     "output_type": "stream",
     "text": [
      "['__add__', '__class__', '__contains__', '__delattr__', '__delitem__', '__dir__', '__doc__', '__eq__', '__format__', '__ge__', '__getattribute__', '__getitem__', '__gt__', '__hash__', '__iadd__', '__imul__', '__init__', '__init_subclass__', '__iter__', '__le__', '__len__', '__lt__', '__mul__', '__ne__', '__new__', '__reduce__', '__reduce_ex__', '__repr__', '__reversed__', '__rmul__', '__setattr__', '__setitem__', '__sizeof__', '__str__', '__subclasshook__', 'append', 'clear', 'copy', 'count', 'extend', 'index', 'insert', 'pop', 'remove', 'reverse', 'sort']\n"
     ]
    }
   ],
   "source": [
    "l1=[\"sjdklsfd\"]\n",
    "print(dir(l1))"
   ]
  },
  {
   "cell_type": "code",
   "execution_count": 7,
   "metadata": {},
   "outputs": [
    {
     "name": "stdout",
     "output_type": "stream",
     "text": [
      "A1 : 1\n",
      "A2 : 2\n",
      "B1 : 1\n",
      "B3 : 3\n",
      "B2 : 2\n",
      "B7 : 7\n"
     ]
    }
   ],
   "source": [
    "\n",
    "Training_rooms =[\"A1\",\"A2\",\"B1\",\"B3\",\"B2\",\"B7\"]\n",
    "Training_roomsc =[\"1\",\"2\",\"1\",\"3\",\"2\",\"7\"]\n",
    "# Variable length arguments\n",
    "def function_1(*args):\n",
    "    if(len(args)<4):\n",
    "        print(Training_rooms)\n",
    "    else:\n",
    "           for item,values in zip(args,Training_roomsc):\n",
    "               print(item,\":\",values)\n",
    "\n",
    "function_1(*Training_rooms)\n"
   ]
  }
 ],
 "metadata": {
  "kernelspec": {
   "display_name": "Python 3",
   "language": "python",
   "name": "python3"
  },
  "language_info": {
   "codemirror_mode": {
    "name": "ipython",
    "version": 3
   },
   "file_extension": ".py",
   "mimetype": "text/x-python",
   "name": "python",
   "nbconvert_exporter": "python",
   "pygments_lexer": "ipython3",
   "version": "3.8.5"
  }
 },
 "nbformat": 4,
 "nbformat_minor": 4
}
