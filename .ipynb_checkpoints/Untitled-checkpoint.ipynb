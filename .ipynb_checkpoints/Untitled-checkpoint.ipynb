{
 "cells": [
  {
   "cell_type": "code",
   "execution_count": 4,
   "metadata": {},
   "outputs": [
    {
     "name": "stdout",
     "output_type": "stream",
     "text": [
      "Ho wmany times i need to tll you5\n",
      "0tims Clean up your room\n",
      "1tims Clean up your room\n",
      "2tims Clean up your room\n",
      "3tims Clean up your room\n",
      "4tims Clean up your room\n"
     ]
    }
   ],
   "source": [
    "times=int(input(\"Ho wmany times i need to tll you\"))\n",
    "for i in range(times):\n",
    "    print(f\"{i}tims Clean up your room\")"
   ]
  },
  {
   "cell_type": "code",
   "execution_count": 29,
   "metadata": {},
   "outputs": [],
   "source": [
    "l=[str(i)+\" is odd\" if i%2!=0 else str(i)+\" is is even\"  for i in range(100) ]"
   ]
  },
  {
   "cell_type": "code",
   "execution_count": 27,
   "metadata": {},
   "outputs": [
    {
     "data": {
      "text/plain": [
       "['0 is is even',\n",
       " '1 is odd',\n",
       " '2 is is even',\n",
       " '3 is odd',\n",
       " '4 is is even',\n",
       " '5 is odd',\n",
       " '6 is is even',\n",
       " '7 is odd',\n",
       " '8 is is even',\n",
       " '9 is odd']"
      ]
     },
     "execution_count": 27,
     "metadata": {},
     "output_type": "execute_result"
    }
   ],
   "source": [
    "l"
   ]
  },
  {
   "cell_type": "code",
   "execution_count": 28,
   "metadata": {},
   "outputs": [
    {
     "name": "stdout",
     "output_type": "stream",
     "text": [
      "0 is is even\n",
      "1 is odd\n",
      "2 is is even\n",
      "3 is odd\n",
      "4 is is even\n",
      "5 is odd\n",
      "6 is is even\n",
      "7 is odd\n",
      "8 is is even\n",
      "9 is odd\n"
     ]
    }
   ],
   "source": [
    "for l1 in l:print(l1) "
   ]
  },
  {
   "cell_type": "code",
   "execution_count": 30,
   "metadata": {
    "slideshow": {
     "slide_type": "notes"
    }
   },
   "outputs": [
    {
     "data": {
      "text/plain": [
       "'0 is is even 1 is odd 2 is is even 3 is odd 4 is is even 5 is odd 6 is is even 7 is odd 8 is is even 9 is odd 10 is is even 11 is odd 12 is is even 13 is odd 14 is is even 15 is odd 16 is is even 17 is odd 18 is is even 19 is odd 20 is is even 21 is odd 22 is is even 23 is odd 24 is is even 25 is odd 26 is is even 27 is odd 28 is is even 29 is odd 30 is is even 31 is odd 32 is is even 33 is odd 34 is is even 35 is odd 36 is is even 37 is odd 38 is is even 39 is odd 40 is is even 41 is odd 42 is is even 43 is odd 44 is is even 45 is odd 46 is is even 47 is odd 48 is is even 49 is odd 50 is is even 51 is odd 52 is is even 53 is odd 54 is is even 55 is odd 56 is is even 57 is odd 58 is is even 59 is odd 60 is is even 61 is odd 62 is is even 63 is odd 64 is is even 65 is odd 66 is is even 67 is odd 68 is is even 69 is odd 70 is is even 71 is odd 72 is is even 73 is odd 74 is is even 75 is odd 76 is is even 77 is odd 78 is is even 79 is odd 80 is is even 81 is odd 82 is is even 83 is odd 84 is is even 85 is odd 86 is is even 87 is odd 88 is is even 89 is odd 90 is is even 91 is odd 92 is is even 93 is odd 94 is is even 95 is odd 96 is is even 97 is odd 98 is is even 99 is odd'"
      ]
     },
     "execution_count": 30,
     "metadata": {},
     "output_type": "execute_result"
    }
   ],
   "source": [
    "\" \".join(l)"
   ]
  },
  {
   "cell_type": "code",
   "execution_count": 31,
   "metadata": {},
   "outputs": [
    {
     "ename": "FileNotFoundError",
     "evalue": "[Errno 2] No such file or directory: 'hfjkd'",
     "output_type": "error",
     "traceback": [
      "\u001b[1;31m---------------------------------------------------------------------------\u001b[0m",
      "\u001b[1;31mFileNotFoundError\u001b[0m                         Traceback (most recent call last)",
      "\u001b[1;32m<ipython-input-31-61713bb74d89>\u001b[0m in \u001b[0;36m<module>\u001b[1;34m\u001b[0m\n\u001b[1;32m----> 1\u001b[1;33m \u001b[1;32mwith\u001b[0m \u001b[0mopen\u001b[0m\u001b[1;33m(\u001b[0m\u001b[1;34m\"hfjkd\"\u001b[0m\u001b[1;33m)\u001b[0m\u001b[1;33m:\u001b[0m\u001b[1;33m\u001b[0m\u001b[1;33m\u001b[0m\u001b[0m\n\u001b[0m\u001b[0;32m      2\u001b[0m     \u001b[0mprint\u001b[0m\u001b[1;33m(\u001b[0m\u001b[1;34m\"klhsfdjkh\"\u001b[0m\u001b[1;33m)\u001b[0m\u001b[1;33m\u001b[0m\u001b[1;33m\u001b[0m\u001b[0m\n",
      "\u001b[1;31mFileNotFoundError\u001b[0m: [Errno 2] No such file or directory: 'hfjkd'"
     ]
    }
   ],
   "source": [
    "with open(\"hfjkd\"):\n",
    "    print(\"klhsfdjkh\")"
   ]
  },
  {
   "cell_type": "code",
   "execution_count": 32,
   "metadata": {},
   "outputs": [],
   "source": [
    "a=\"lkjsgklhkgjh\""
   ]
  },
  {
   "cell_type": "code",
   "execution_count": 55,
   "metadata": {},
   "outputs": [
    {
     "data": {
      "text/plain": [
       "'VishwaS'"
      ]
     },
     "execution_count": 55,
     "metadata": {},
     "output_type": "execute_result"
    }
   ],
   "source": [
    "a[0].upper()+a[1:(len(a)-1)]+a[-1].upper()"
   ]
  },
  {
   "cell_type": "code",
   "execution_count": 53,
   "metadata": {},
   "outputs": [
    {
     "ename": "NameError",
     "evalue": "name 'a' is not defined",
     "output_type": "error",
     "traceback": [
      "\u001b[1;31m---------------------------------------------------------------------------\u001b[0m",
      "\u001b[1;31mNameError\u001b[0m                                 Traceback (most recent call last)",
      "\u001b[1;32m<ipython-input-53-f865a753738c>\u001b[0m in \u001b[0;36m<module>\u001b[1;34m\u001b[0m\n\u001b[1;32m----> 1\u001b[1;33m \u001b[0ma\u001b[0m\u001b[1;33m[\u001b[0m\u001b[1;36m0\u001b[0m\u001b[1;33m]\u001b[0m\u001b[1;33m.\u001b[0m\u001b[0mupper\u001b[0m\u001b[1;33m(\u001b[0m\u001b[1;33m)\u001b[0m\u001b[1;33m+\u001b[0m\u001b[0ma\u001b[0m\u001b[1;33m[\u001b[0m\u001b[1;36m1\u001b[0m\u001b[1;33m:\u001b[0m\u001b[1;33m(\u001b[0m\u001b[0mlen\u001b[0m\u001b[1;33m(\u001b[0m\u001b[0ma\u001b[0m\u001b[1;33m)\u001b[0m\u001b[1;33m-\u001b[0m\u001b[1;36m1\u001b[0m\u001b[1;33m)\u001b[0m\u001b[1;33m]\u001b[0m\u001b[1;33m+\u001b[0m\u001b[0ma\u001b[0m\u001b[1;33m[\u001b[0m\u001b[1;33m-\u001b[0m\u001b[1;36m1\u001b[0m\u001b[1;33m]\u001b[0m\u001b[1;33m.\u001b[0m\u001b[0mupper\u001b[0m\u001b[1;33m(\u001b[0m\u001b[1;33m)\u001b[0m\u001b[1;33m\u001b[0m\u001b[1;33m\u001b[0m\u001b[0m\n\u001b[0m",
      "\u001b[1;31mNameError\u001b[0m: name 'a' is not defined"
     ]
    }
   ],
   "source": [
    "a[0].upper()+a[1:(len(a)-1)]+a[-1].upper()\n"
   ]
  },
  {
   "cell_type": "code",
   "execution_count": 52,
   "metadata": {},
   "outputs": [],
   "source": [
    "del a\n"
   ]
  },
  {
   "cell_type": "code",
   "execution_count": 59,
   "metadata": {},
   "outputs": [
    {
     "name": "stdout",
     "output_type": "stream",
     "text": [
      "Enter your usernamehgfdjha\n"
     ]
    },
    {
     "data": {
      "text/plain": [
       "'HgfdjhA'"
      ]
     },
     "execution_count": 59,
     "metadata": {},
     "output_type": "execute_result"
    }
   ],
   "source": [
    "def capitalize(a):\n",
    "    return a[0].upper()+a[1:(len(a)-1)].lower()+a[-1].upper()\n",
    "\n",
    "v=input('Enter your username')\n",
    "capitalize(v)"
   ]
  },
  {
   "cell_type": "code",
   "execution_count": 64,
   "metadata": {},
   "outputs": [
    {
     "data": {
      "text/plain": [
       "'10cb95'"
      ]
     },
     "execution_count": 64,
     "metadata": {},
     "output_type": "execute_result"
    }
   ],
   "source": [
    "hex(1100693)[2:]"
   ]
  },
  {
   "cell_type": "code",
   "execution_count": 99,
   "metadata": {},
   "outputs": [
    {
     "data": {
      "text/plain": [
       "'2b5d2b602b632b662b692b6c2b6f2b722b752b782b7b2b7e2b812b842b872b8a2b8d2b902b932b962b992b9c2b9f2ba22ba52ba82bab2bae2bb12bb42bb72bba2bbd2bc02bc32bc62bc92bcc2bcf2bd22bd52bd82bdb2bde2be12be42be72bea2bed2bf02bf32bf62bf92bfc2bff2c022c052c082c0b2c0e2c112c142c172c1a2c1d2c202c232c262c292c2c2c2f2c322c352c382c3b2c3e2c412c442c472c4a2c4d2c502c532c562c592c5c2c5f2c622c652c682c6b2c6e2c712c742c772c7a2c7d2c802c832c862c892c8c2c8f2c922c952c982c9b2c9e2ca12ca42ca72caa2cad2cb02cb32cb62cb92cbc2cbf2cc22cc52cc82ccb2cce2cd12cd42cd72cda2cdd2ce02ce32ce62ce92cec2cef2cf22cf52cf82cfb2cfe2d012d042d072d0a2d0d2d102d132d162d192d1c2d1f2d222d252d282d2b2d2e2d312d342d372d3a2d3d2d402d432d462d492d4c2d4f2d522d552d582d5b2d5e2d612d642d672d6a2d6d2d702d732d762d792d7c2d7f2d822d852d882d8b2d8e2d912d942d972d9a2d9d2da02da32da62da92dac2daf2db22db52db82dbb2dbe2dc12dc42dc72dca2dcd2dd02dd32dd62dd92ddc2ddf2de22de52de82deb2dee2df12df42df72dfa2dfd2e002e032e062e092e0c2e0f2e122e152e182e1b2e1e2e212e242e272e2a2e2d2e302e332e362e392e3c2e3f2e422e452e482e4b2e4e2e512e542e572e5a2e5d2e602e632e662e692e6c2e6f2e722e752e782e7b2e7e2e812e842e872e8a2e8d2e902e932e962e992e9c2e9f2ea22ea52ea82eab2eae2eb12eb42eb72eba2ebd2ec02ec32ec62ec92ecc2ecf2ed22ed52ed82edb2ede2ee12ee42ee72eea2eed2ef02ef32ef62ef92efc2eff2f022f052f082f0b2f0e2f112f142f172f1a2f1d2f202f232f262f292f2c2f2f2f322f352f382f3b2f3e2f412f442f472f4a2f4d2f502f532f562f592f5c2f5f2f622f652f682f6b2f6e2f712f742f772f7a2f7d2f802f832f862f892f8c2f8f2f922f952f982f9b2f9e2fa12fa42fa72faa2fad2fb02fb32fb62fb92fbc2fbf2fc22fc52fc82fcb2fce2fd12fd42fd72fda2fdd2fe02fe32fe62fe92fec2fef2ff22ff52ff82ffb2ffe300130043007300a'"
      ]
     },
     "execution_count": 99,
     "metadata": {},
     "output_type": "execute_result"
    }
   ],
   "source": [
    "k=[hex(z)[2:] for z in range(11101,12301,3)]\n",
    "\"\".join(k)\n"
   ]
  },
  {
   "cell_type": "code",
   "execution_count": null,
   "metadata": {},
   "outputs": [],
   "source": []
  }
 ],
 "metadata": {
  "celltoolbar": "Slideshow",
  "kernelspec": {
   "display_name": "Python 3",
   "language": "python",
   "name": "python3"
  },
  "language_info": {
   "codemirror_mode": {
    "name": "ipython",
    "version": 3
   },
   "file_extension": ".py",
   "mimetype": "text/x-python",
   "name": "python",
   "nbconvert_exporter": "python",
   "pygments_lexer": "ipython3",
   "version": "3.8.5"
  }
 },
 "nbformat": 4,
 "nbformat_minor": 4
}
