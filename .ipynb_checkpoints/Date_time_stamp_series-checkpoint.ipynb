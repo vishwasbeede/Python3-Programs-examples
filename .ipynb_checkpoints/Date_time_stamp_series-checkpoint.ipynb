{
 "cells": [
  {
   "cell_type": "code",
   "execution_count": 83,
   "metadata": {},
   "outputs": [
    {
     "name": "stdout",
     "output_type": "stream",
     "text": [
      "['2021-02-14 21:53:13', '2021-02-14 21:53:14', '2021-02-14 21:53:12', '2021-02-14 21:53:15', '2021-02-14 21:53:11']\n",
      "2021-02-14 21:53:11\n",
      "2021-02-14 21:53:13\n",
      "Step 1 current time is 2021-02-14 21:53:11 \n",
      "\n",
      "Step 2 current time is 2021-02-14 21:53:15 \n",
      "\n",
      "2021-02-14 21:44:25\t2021-02-14 21:44:26\n"
     ]
    },
    {
     "data": {
      "text/plain": [
       "1.0"
      ]
     },
     "execution_count": 83,
     "metadata": {},
     "output_type": "execute_result"
    }
   ],
   "source": [
    "from datetime import *\n",
    "\n",
    "k=datetime.now()\n",
    "del date_str\n",
    "date_str=[]\n",
    "\n",
    "# date_str.append('2021-02-19 12:44:51')\n",
    "# date_str.append('2021-02-19 12:44:51')\n",
    "\n",
    "# print(f\"Step 1 current time is {s} \\n\")\n",
    "# print(f\"Step 2 current time is {date_str[1]} \\n\")\n",
    "\n",
    "def gen_time_series(ranges_val):\n",
    "    for x in range(int(ranges_val)):\n",
    "        s=datetime.now()\n",
    "        date_str.append(str(s)[0:len(str(s))-7])\n",
    "    date_str.insert(0,(str(k)[0:len(str(k))-7]))\n",
    "    z=list(set(date_str))\n",
    "    print(z)\n",
    "    print(z[-1])\n",
    "    print(z[0])\n",
    "#date_str[-1]='2021-02-19 19:54:51'\n",
    "\n",
    "Input_entries=300000\n",
    "time_stamp_sets=gen_time_series(Input_entries)\n",
    "print(f\"Step 1 current time is {date_str[0]} \\n\")\n",
    "print(f\"Step 2 current time is {date_str[-1]} \\n\")\n",
    "# print(z)\n",
    "# dt_obj1 = datetime.strptime(time_stamp_sets[0],'%Y-%m-%d %H:%M:%S')\n",
    "# dt_obj2 = datetime.strptime(time_stamp_sets[-1],'%Y-%m-%d %H:%M:%S')\n",
    "\n",
    "# dt_obj1 = datetime.strptime((date_str[0]), '%Y-%m-%d %H:%M:%S')\n",
    "# dt_obj2 = datetime.strptime((date_str[-1]), '%Y-%m-%d %H:%M:%S')\n",
    "    \n",
    "def dateDiffInSeconds(date1, date2):\n",
    "    print(str(dt_obj1)+\"\\t\"+str(dt_obj2))\n",
    "    #timedelta = date2 - date1\n",
    "    #return((date2.year-date2.year),(date2.month-date1.month),(date2.day-date1.day),date2.hour,date2.minute,date2.second)-(,date1.year,date1.hour,date1.minute,date1.second)\n",
    "   # return (date2-date1).days*86400 + (date2-date1).seconds\n",
    "    return (date2-date1).total_seconds()\n",
    "\n",
    "dateDiffInSeconds(dt_obj1,dt_obj2)\n",
    "\n"
   ]
  },
  {
   "cell_type": "code",
   "execution_count": 54,
   "metadata": {},
   "outputs": [
    {
     "data": {
      "text/plain": [
       "'2021-02-14 21:32:04'"
      ]
     },
     "execution_count": 54,
     "metadata": {},
     "output_type": "execute_result"
    }
   ],
   "source": [
    "date_str[0]"
   ]
  }
 ],
 "metadata": {
  "kernelspec": {
   "display_name": "Python 3",
   "language": "python",
   "name": "python3"
  },
  "language_info": {
   "codemirror_mode": {
    "name": "ipython",
    "version": 3
   },
   "file_extension": ".py",
   "mimetype": "text/x-python",
   "name": "python",
   "nbconvert_exporter": "python",
   "pygments_lexer": "ipython3",
   "version": "3.8.5"
  }
 },
 "nbformat": 4,
 "nbformat_minor": 4
}
